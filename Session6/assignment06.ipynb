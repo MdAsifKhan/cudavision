{
 "cells": [
  {
   "cell_type": "markdown",
   "metadata": {},
   "source": [
    "## Session 6\n",
    "\n",
    "\n",
    "Convolutional Autoencoder"
   ]
  },
  {
   "cell_type": "code",
   "execution_count": 1,
   "metadata": {
    "collapsed": true
   },
   "outputs": [],
   "source": [
    "import torch\n",
    "import torchvision.datasets as dsets\n",
    "import torch.nn as nn\n",
    "import torchvision.transforms as transforms\n",
    "import torch.backends.cudnn as cudnn\n",
    "from model import Encoder, Decoder, LogisticRegression\n",
    "from evaluator import ModelEvaluator, AutoEncoderEvaluator"
   ]
  },
  {
   "cell_type": "markdown",
   "metadata": {},
   "source": [
    "## Use latent features to train and test a simple MLP"
   ]
  },
  {
   "cell_type": "code",
   "execution_count": 2,
   "metadata": {
    "collapsed": true
   },
   "outputs": [],
   "source": [
    "def load_model(model_name, key='state_dict_encoder'):\n",
    "    model_dir = '../Session6/model/' + model_name\n",
    "    checkpoint = torch.load(model_dir)\n",
    "    checkpoint = checkpoint[key]\n",
    "    return checkpoint"
   ]
  },
  {
   "cell_type": "code",
   "execution_count": 3,
   "metadata": {},
   "outputs": [],
   "source": [
    "# Set Hyperparameters\n",
    "epochs = 10\n",
    "batch_size = 10\n",
    "lr = 0.001\n",
    "# Model\n",
    "l2 = 0.0\n",
    "optim = 'adam'\n",
    "model_epoch = 8\n",
    "use_gpu= True\n",
    "cudnn.benchmark = True\n",
    "\n",
    "model_name = 'AutoEncoder_lr_{}_opt_{}_epoch_{}'.format(lr, optim, model_epoch)\n",
    "\n",
    "encoder = Encoder(batch_size=batch_size)\n",
    "decoder = Decoder(batch_size=batch_size)\n",
    "\n",
    "encoder.load_state_dict(load_model(model_name, key='state_dict_encoder'))\n",
    "decoder.load_state_dict(load_model(model_name, key='state_dict_decoder'))"
   ]
  },
  {
   "cell_type": "code",
   "execution_count": 4,
   "metadata": {},
   "outputs": [
    {
     "data": {
      "text/plain": [
       "Encoder(\n",
       "  (layer1): Sequential(\n",
       "    (0): Conv2d(3, 32, kernel_size=(3, 3), stride=(1, 1), padding=(1, 1))\n",
       "    (1): ReLU()\n",
       "    (2): BatchNorm2d(32, eps=1e-05, momentum=0.1, affine=True, track_running_stats=True)\n",
       "    (3): Conv2d(32, 64, kernel_size=(3, 3), stride=(1, 1), padding=(1, 1))\n",
       "    (4): ReLU()\n",
       "    (5): BatchNorm2d(64, eps=1e-05, momentum=0.1, affine=True, track_running_stats=True)\n",
       "    (6): Conv2d(64, 128, kernel_size=(3, 3), stride=(1, 1), padding=(1, 1))\n",
       "    (7): ReLU()\n",
       "    (8): BatchNorm2d(128, eps=1e-05, momentum=0.1, affine=True, track_running_stats=True)\n",
       "    (9): Conv2d(128, 128, kernel_size=(3, 3), stride=(1, 1), padding=(1, 1))\n",
       "    (10): ReLU()\n",
       "    (11): BatchNorm2d(128, eps=1e-05, momentum=0.1, affine=True, track_running_stats=True)\n",
       "    (12): MaxPool2d(kernel_size=2, stride=2, padding=0, dilation=1, ceil_mode=False)\n",
       "  )\n",
       "  (layer2): Sequential(\n",
       "    (0): Conv2d(128, 256, kernel_size=(3, 3), stride=(1, 1), padding=(1, 1))\n",
       "    (1): ReLU()\n",
       "    (2): BatchNorm2d(256, eps=1e-05, momentum=0.1, affine=True, track_running_stats=True)\n",
       "    (3): Conv2d(256, 512, kernel_size=(3, 3), stride=(1, 1), padding=(1, 1))\n",
       "    (4): ReLU()\n",
       "    (5): BatchNorm2d(512, eps=1e-05, momentum=0.1, affine=True, track_running_stats=True)\n",
       "    (6): MaxPool2d(kernel_size=2, stride=2, padding=0, dilation=1, ceil_mode=False)\n",
       "    (7): Conv2d(512, 512, kernel_size=(3, 3), stride=(1, 1), padding=(1, 1))\n",
       "    (8): ReLU()\n",
       "  )\n",
       ")"
      ]
     },
     "execution_count": 4,
     "metadata": {},
     "output_type": "execute_result"
    }
   ],
   "source": [
    "encoder.eval()"
   ]
  },
  {
   "cell_type": "code",
   "execution_count": 5,
   "metadata": {},
   "outputs": [
    {
     "data": {
      "text/plain": [
       "Decoder(\n",
       "  (layer1): Sequential(\n",
       "    (0): ConvTranspose2d(512, 512, kernel_size=(3, 3), stride=(2, 2), padding=(1, 1), output_padding=(1, 1))\n",
       "    (1): ReLU()\n",
       "    (2): BatchNorm2d(512, eps=1e-05, momentum=0.1, affine=True, track_running_stats=True)\n",
       "    (3): ConvTranspose2d(512, 256, kernel_size=(3, 3), stride=(1, 1), padding=(1, 1))\n",
       "    (4): ReLU()\n",
       "    (5): BatchNorm2d(256, eps=1e-05, momentum=0.1, affine=True, track_running_stats=True)\n",
       "    (6): ConvTranspose2d(256, 128, kernel_size=(3, 3), stride=(1, 1), padding=(1, 1))\n",
       "    (7): ReLU()\n",
       "    (8): BatchNorm2d(128, eps=1e-05, momentum=0.1, affine=True, track_running_stats=True)\n",
       "    (9): ConvTranspose2d(128, 128, kernel_size=(3, 3), stride=(1, 1), padding=(1, 1))\n",
       "    (10): ReLU()\n",
       "    (11): BatchNorm2d(128, eps=1e-05, momentum=0.1, affine=True, track_running_stats=True)\n",
       "  )\n",
       "  (layer2): Sequential(\n",
       "    (0): ConvTranspose2d(128, 64, kernel_size=(3, 3), stride=(1, 1), padding=(1, 1))\n",
       "    (1): ReLU()\n",
       "    (2): BatchNorm2d(64, eps=1e-05, momentum=0.1, affine=True, track_running_stats=True)\n",
       "    (3): ConvTranspose2d(64, 32, kernel_size=(3, 3), stride=(1, 1), padding=(1, 1))\n",
       "    (4): ReLU()\n",
       "    (5): BatchNorm2d(32, eps=1e-05, momentum=0.1, affine=True, track_running_stats=True)\n",
       "    (6): ConvTranspose2d(32, 3, kernel_size=(3, 3), stride=(2, 2), padding=(1, 1), output_padding=(1, 1))\n",
       "    (7): ReLU()\n",
       "  )\n",
       ")"
      ]
     },
     "execution_count": 5,
     "metadata": {},
     "output_type": "execute_result"
    }
   ],
   "source": [
    "decoder.eval()"
   ]
  },
  {
   "cell_type": "code",
   "execution_count": 6,
   "metadata": {
    "collapsed": true
   },
   "outputs": [],
   "source": [
    "from matplotlib import pyplot as plt"
   ]
  },
  {
   "cell_type": "code",
   "execution_count": 7,
   "metadata": {},
   "outputs": [
    {
     "name": "stdout",
     "output_type": "stream",
     "text": [
      "Files already downloaded and verified\n",
      "Files already downloaded and verified\n",
      "Actual Input\n"
     ]
    },
    {
     "data": {
      "image/png": "[encoded data removed]",
      "text/plain": [
       "<matplotlib.figure.Figure at 0x7f5d0ce419e8>"
      ]
     },
     "metadata": {},
     "output_type": "display_data"
    },
    {
     "name": "stdout",
     "output_type": "stream",
     "text": [
      "Reconstructed Output\n"
     ]
    },
    {
     "data": {
      "image/png": "[encoded data removed]",
      "text/plain": [
       "<matplotlib.figure.Figure at 0x7f5d0ce1c320>"
      ]
     },
     "metadata": {},
     "output_type": "display_data"
    }
   ],
   "source": [
    "trainset = dsets.CIFAR10('./data', train=True, download=True, transform=transforms.ToTensor())\n",
    "testset = dsets.CIFAR10('./data', train=False, download=True, transform=transforms.ToTensor())\n",
    "classes = ('plane', 'car', 'bird', 'cat', 'deer', 'dog', 'frog', 'horse', 'ship', 'truck')\n",
    "\n",
    "trainloader = torch.utils.data.DataLoader(trainset, batch_size=batch_size, shuffle=True, num_workers=3)\n",
    "testloader = torch.utils.data.DataLoader(testset, batch_size=batch_size, shuffle=False, num_workers=3)\n",
    "\n",
    "def plot_img(tensor, num_cols=5):\n",
    "  num_imgs = tensor.shape[0]\n",
    "  num_rows = 1+ num_imgs // num_cols\n",
    "  fig = plt.figure(figsize=(num_cols,num_rows))\n",
    "  for i in range(num_imgs):\n",
    "    ax1 = fig.add_subplot(num_rows,num_cols,i+1)\n",
    "    ax1.imshow(tensor[i].transpose((1, 2, 0)))\n",
    "    ax1.axis('off')\n",
    "    ax1.set_xticklabels([])\n",
    "    ax1.set_yticklabels([])\n",
    "\n",
    "  plt.subplots_adjust(wspace=0.1, hspace=0.1)\n",
    "  plt.show() \n",
    "\n",
    "for images, labels in testloader:\n",
    "    output = encoder.forward(images)\n",
    "    output = decoder.forward(output)\n",
    "    break\n",
    "\n",
    "print('Actual Input')\n",
    "plot_img(images.detach().cpu().numpy())\n",
    "print('Reconstructed Output')\n",
    "plot_img(output.detach().cpu().numpy())   "
   ]
  },
  {
   "cell_type": "code",
   "execution_count": 19,
   "metadata": {},
   "outputs": [],
   "source": [
    "import numpy as np\n",
    "from tqdm import tqdm"
   ]
  },
  {
   "cell_type": "code",
   "execution_count": null,
   "metadata": {},
   "outputs": [
    {
     "name": "stderr",
     "output_type": "stream",
     "text": [
      "1292it [05:17,  4.07it/s]"
     ]
    }
   ],
   "source": [
    "add_noise = False\n",
    "'''\n",
    "n_in = 32768  # 512x8x8\n",
    "n_hidden = 128\n",
    "n_out = 10\n",
    "model_epochs = 20\n",
    "model_lr = 0.001\n",
    "l2 = 0.0\n",
    "\n",
    "#train classifier\n",
    "model = LogisticRegression(n_in, n_hidden, n_out)\n",
    "modeleval = ModelEvaluator(model, model_epochs, model_lr, l2=l2, use_gpu=True, optim='adam')\n",
    "acc_ = modeleval.evaluator(encoder, trainloader, testloader, noise=add_noise, print_every=100)\n",
    "'''\n",
    "n_in = 32768  # 512x8x8\n",
    "train_features_ = np.zeros([len(trainset), n_in])\n",
    "train_labels_ = np.zeros(len(trainset))\n",
    "for b_idx, (train_data, train_labels) in tqdm(enumerate(trainloader)):\n",
    "    latent_repr = encoder.forward(train_data)\n",
    "    train_features_[b_idx: b_idx+batch_size,:] = latent_repr.detach().cpu().numpy()\n",
    "    train_labels_[b_idx: b_idx+batch_size] = train_labels.detach().cpu().numpy()"
   ]
  },
  {
   "cell_type": "code",
   "execution_count": null,
   "metadata": {
    "collapsed": true
   },
   "outputs": [],
   "source": [
    "test_features_ = np.zeros([len(testset), n_in])\n",
    "test_features_ = np.zeros(len(testset))\n",
    "for b_idx, (test_data, test_labels) in enumerate(testloader):\n",
    "    latent_repr = encoder.forward(train_data)\n",
    "    test_features_[b_idx: b_idx+batch_size,:] = latent_repr.detach().cpu().numpy()\n",
    "    test_labels_[b_idx: b_idx+batch_size] = test_labels.detach().cpu().numpy()"
   ]
  },
  {
   "cell_type": "code",
   "execution_count": null,
   "metadata": {
    "collapsed": true
   },
   "outputs": [],
   "source": [
    "from sklearn.multiclass import OneVsRestClassifier\n",
    "from sklearn.svm import LinearSVC\n",
    "from sklearn.metrics import classification_report\n",
    "\n",
    "predict_labels = OneVsRestClassifier(LinearSVC(random_state=0)).fit(train_features_, train_labels_).predict(test_features_)\n",
    "print(classification_report(test_labels_, predict_labels))"
   ]
  },
  {
   "cell_type": "markdown",
   "metadata": {},
   "source": [
    "## Denoising AutoEncoder\n",
    "\n",
    "Add noise to encoder"
   ]
  },
  {
   "cell_type": "code",
   "execution_count": null,
   "metadata": {
    "collapsed": true
   },
   "outputs": [],
   "source": [
    "# Set Hyperparameters\n",
    "epochs = 10\n",
    "batch_size = 50\n",
    "lr = 0.001\n",
    "l2 = 0.0\n",
    "optim = 'adam'\n",
    "model_epoch = 10\n",
    "model_name = 'AutoEncoder_lr_{}_opt_{}_epoch_{}_dae'.format(lr, optim, model_epoch)\n",
    "\n",
    "encoder = Encoder(batch_size=batch_size)\n",
    "decoder = Decoder(batch_size=batch_size)\n",
    "\n",
    "encoder.load_state_dict(load_model(model_name, key='state_dict_encoder'))\n",
    "decoder.load_state_dict(load_model(model_name, key='state_dict_decoder'))"
   ]
  },
  {
   "cell_type": "code",
   "execution_count": null,
   "metadata": {
    "collapsed": true
   },
   "outputs": [],
   "source": [
    "encoder.eval()"
   ]
  },
  {
   "cell_type": "code",
   "execution_count": null,
   "metadata": {
    "collapsed": true
   },
   "outputs": [],
   "source": [
    "decoder.eval()"
   ]
  },
  {
   "cell_type": "code",
   "execution_count": null,
   "metadata": {
    "collapsed": true
   },
   "outputs": [],
   "source": [
    "trainset = dsets.CIFAR10('./data', train=True, download=True, transform=transforms.ToTensor())\n",
    "testset = dsets.CIFAR10('./data', train=False, download=True, transform=transforms.ToTensor())\n",
    "classes = ('plane', 'car', 'bird', 'cat', 'deer', 'dog', 'frog', 'horse', 'ship', 'truck')\n",
    "\n",
    "trainloader = torch.utils.data.DataLoader(trainset, batch_size=batch_size, shuffle=True, num_workers=3)\n",
    "testloader = torch.utils.data.DataLoader(testset, batch_size=batch_size, shuffle=False, num_workers=3)\n",
    "\n",
    "\n",
    "for images, labels in testloader:\n",
    "    output = encoder.forward(images)\n",
    "    images_n = torch.mul(images+0.25, 0.1 * torch.rand(batch_size, 3, 32, 32))\n",
    "    output = decoder.forward(image_n)\n",
    "    break\n",
    "\n",
    "print('Actual Images')\n",
    "plot_img(images.detach().cpu().numpy())\n",
    "print('Input Images')\n",
    "plot_img(images_n.detach().cpu().numpy())\n",
    "\n",
    "print('Reconstructed Output')\n",
    "plot_img(output.detach().cpu().numpy())   "
   ]
  },
  {
   "cell_type": "code",
   "execution_count": null,
   "metadata": {
    "collapsed": true
   },
   "outputs": [],
   "source": [
    "add_noise = True\n",
    "train_features_ = np.zeros([len(trainset), n_in])\n",
    "train_labels_ = np.zeros(len(trainset))\n",
    "for b_idx, (train_data, train_labels) in enumerate(trainloader):\n",
    "    train_data_n = torch.mul(train_data+0.25, 0.1 * torch.rand(batch_size, 3, 32, 32))\n",
    "    latent_repr = encoder.forward(train_data_n)\n",
    "\n",
    "    train_features_dn[b_idx: b_idx+batch_size,:] = latent_repr.detach().cpu().numpy()\n",
    "    train_labels_dn[b_idx: b_idx+batch_size] = train_labels.detach().cpu().numpy()"
   ]
  },
  {
   "cell_type": "code",
   "execution_count": null,
   "metadata": {
    "collapsed": true
   },
   "outputs": [],
   "source": [
    "test_features_dn = np.zeros([len(testset), n_in])\n",
    "test_labels_dn = np.zeros(len(testset))\n",
    "for b_idx, (test_data, test_labels) in enumerate(testloader):\n",
    "    latent_repr = encoder.forward(train_data)\n",
    "    test_features_[b_idx: b_idx+batch_size,:] = latent_repr.detach().cpu().numpy()\n",
    "    test_labels_[b_idx: b_idx+batch_size] = test_labels.detach().cpu().numpy()"
   ]
  },
  {
   "cell_type": "code",
   "execution_count": null,
   "metadata": {
    "collapsed": true
   },
   "outputs": [],
   "source": [
    "from sklearn.multiclass import OneVsRestClassifier\n",
    "from sklearn.svm import LinearSVC\n",
    "from sklearn.metrics import classification_report\n",
    "\n",
    "predict_labels = OneVsRestClassifier(LinearSVC(random_state=0)).fit(train_features_, train_labels_).predict(test_features_)\n",
    "print(classification_report(test_labels_, predict_labels))"
   ]
  },
  {
   "cell_type": "code",
   "execution_count": null,
   "metadata": {
    "collapsed": true
   },
   "outputs": [],
   "source": []
  },
  {
   "cell_type": "markdown",
   "metadata": {},
   "source": [
    "## Get latent features from Soccer Dataset and train a logistic regression classifier"
   ]
  },
  {
   "cell_type": "code",
   "execution_count": null,
   "metadata": {
    "collapsed": true
   },
   "outputs": [],
   "source": [
    "from test_soccer import run_trainer, test_img\n",
    "from soccer_dataset import SoccerDataset"
   ]
  },
  {
   "cell_type": "code",
   "execution_count": null,
   "metadata": {
    "collapsed": true
   },
   "outputs": [],
   "source": [
    "def get_soccer_latent(encoder):\n",
    "    dataset = SoccerDataset(transform=transform)\n",
    "    dataloader = torch.utils.data.DataLoader(dataset, batch_size=batch_size, shuffle=True, num_workers=3)\n",
    "    transform = transforms.Compose([\n",
    "        transforms.RandomResizedCrop(32),\n",
    "        transforms.RandomHorizontalFlip(),\n",
    "        transforms.ToTensor(),\n",
    "        transforms.Normalize([0.485, 0.456, 0.406], [0.229, 0.224, 0.225])])\n",
    "    n_in = 32768  # 512x8x8\n",
    "    train_features_ = np.zeros([len(dataset), n_in])\n",
    "    train_labels_ = np.zeros(len(dataset))\n",
    "    \n",
    "    for b_idx, (train_data, train_labels) in enumerate(trainloader):\n",
    "        train_data_n = torch.mul(train_data+0.25, 0.1 * torch.rand(batch_size, 3, 32, 32))\n",
    "        latent_repr = encoder.forward(train_data_n)\n",
    "\n",
    "        train_features_soc[b_idx: b_idx+batch_size,:] = latent_repr.detach().cpu().numpy()\n",
    "        train_labels_soc[b_idx: b_idx+batch_size] = train_labels.detach().cpu().numpy()\n",
    "    return train_features_soc, train_labels_soc"
   ]
  },
  {
   "cell_type": "code",
   "execution_count": null,
   "metadata": {
    "collapsed": true
   },
   "outputs": [],
   "source": [
    "# Set Hyperparameters\n",
    "epochs = 10\n",
    "batch_size = 50\n",
    "lr = 0.001\n",
    "l2 = 0.0\n",
    "optim = 'adam'\n",
    "model_epoch = 10\n",
    "model_name = 'AutoEncoder_lr_{}_opt_{}_epoch_{}_dae'.format(lr, optim, model_epoch)\n",
    "\n",
    "encoder = Encoder(batch_size=batch_size)\n",
    "decoder = Decoder(batch_size=batch_size)\n",
    "\n",
    "encoder.load_state_dict(load_model(model_name, key='state_dict_encoder'))\n",
    "decoder.load_state_dict(load_model(model_name, key='state_dict_decoder'))"
   ]
  },
  {
   "cell_type": "code",
   "execution_count": null,
   "metadata": {
    "collapsed": true
   },
   "outputs": [],
   "source": [
    "train_features_soc, train_labels_soc = get_soccer_latent(encoder)\n",
    "\n",
    "model =  LinearSVC(random_state=0)\n",
    "model = model.fit(train_features_soc, train_labels_soc)\n",
    "\n",
    "predict_labels_soc = model.predict(test_features_soc)\n",
    "print(classification_report(train_labels_soc, predict_labels_soc))"
   ]
  },
  {
   "cell_type": "code",
   "execution_count": null,
   "metadata": {
    "collapsed": true
   },
   "outputs": [],
   "source": [
    "def test_img(path, encoder, model):\n",
    "    img = Image.open(path)\n",
    "    plt.imshow(img)\n",
    "    transform = transforms.Compose([\n",
    "        transforms.Resize(64),\n",
    "        transforms.CenterCrop(32),\n",
    "        transforms.ToTensor(),\n",
    "        transforms.Normalize([0.485, 0.456, 0.406], [0.229, 0.224, 0.225])])\n",
    "    img = transform(img)\n",
    "    img = img.numpy()\n",
    "    img = img[np.newaxis, ...]\n",
    "    img = torch.Tensor(img)\n",
    "\n",
    "    encoder.eval()\n",
    "\n",
    "    with torch.no_grad():\n",
    "        latent_repr = encoder.forward(img)\n",
    "        latent_repr = latent_repr.detach().cpu().numpy()\n",
    "        output = model.predict(latent_repr)\n",
    "        print('prediction: {}'.format(['not soccer', 'soccer'][output])"
   ]
  },
  {
   "cell_type": "markdown",
   "metadata": {},
   "source": [
    "## Test classifier on new images"
   ]
  },
  {
   "cell_type": "code",
   "execution_count": null,
   "metadata": {
    "collapsed": true
   },
   "outputs": [],
   "source": [
    "test_path = 'Session6/SoccerData/test'\n",
    "img1_path = test_path + '/test1.jpg'\n",
    "test_img(img1_path, encoder, model)"
   ]
  }
 ],
 "metadata": {
  "kernelspec": {
   "display_name": "Python 3",
   "language": "python",
   "name": "python3"
  },
  "language_info": {
   "codemirror_mode": {
    "name": "ipython",
    "version": 3
   },
   "file_extension": ".py",
   "mimetype": "text/x-python",
   "name": "python",
   "nbconvert_exporter": "python",
   "pygments_lexer": "ipython3",
   "version": "3.6.1"
  }
 },
 "nbformat": 4,
 "nbformat_minor": 2
}
