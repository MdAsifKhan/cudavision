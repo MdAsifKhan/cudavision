{
 "cells": [
  {
   "cell_type": "markdown",
   "metadata": {},
   "source": [
    "## Session 6\n",
    "\n",
    "\n",
    "Convolutional Autoencoder"
   ]
  },
  {
   "cell_type": "code",
   "execution_count": null,
   "metadata": {
    "collapsed": true
   },
   "outputs": [],
   "source": [
    "import torch\n",
    "import torchvision.datasets as dsets\n",
    "import torchvision.transforms as transforms\n",
    "import torch.backends.cudnn as cudnn\n",
    "from model import Encoder, Decoder\n",
    "from evaluator import ModelEvaluator, AutoEncoderEvaluator\n",
    "\n",
    "\n",
    "cudnn.benchmark = True"
   ]
  },
  {
   "cell_type": "markdown",
   "metadata": {},
   "source": [
    "# Hyperparameters and DataLoader"
   ]
  },
  {
   "cell_type": "code",
   "execution_count": null,
   "metadata": {
    "collapsed": true
   },
   "outputs": [],
   "source": [
    "cudnn.benchmark = True\n",
    "\n",
    "\n",
    "trainset = dsets.CIFAR10('./data', train=True, download=True, transform=transforms.ToTensor())\n",
    "testset = dsets.CIFAR10('./data', train=False, download=True, transform=transforms.ToTensor())\n",
    "classes = ('plane', 'car', 'bird', 'cat', 'deer', 'dog', 'frog', 'horse', 'ship', 'truck')\n",
    "\n",
    "\n",
    "\n",
    "# Set Hyperparameters\n",
    "epochs = 10\n",
    "batch_size = 50\n",
    "lr = 0.001\n",
    "\n",
    "# Data Loader\n",
    "trainloader = torch.utils.data.DataLoader(trainset, batch_size=batch_size, shuffle=True, num_workers=3)\n",
    "testloader = torch.utils.data.DataLoader(testset, batch_size=batch_size, shuffle=False, num_workers=3)\n"
   ]
  },
  {
   "cell_type": "markdown",
   "metadata": {},
   "source": [
    "# Train CAE Without Noise"
   ]
  },
  {
   "cell_type": "code",
   "execution_count": null,
   "metadata": {
    "collapsed": true
   },
   "outputs": [],
   "source": [
    "# Model\n",
    "l2 = 0.0\n",
    "optim = 'adam'\n",
    "# Pytorch Cross Entropy Loss\n",
    "encoder = Encoder(batch_size=batch_size)\n",
    "decoder = Decoder(batch_size=batch_size)\n",
    "add_noise = False\n",
    "AEeval = AutoEncoderEvaluator(encoder, decoder, epochs, lr, batch_size=batch_size, l2=l2, add_noise=add_noise, use_gpu=True, optim=optim)\n",
    "AEeval.evaluator(trainloader, testloader, print_every=100)\n",
    "\n",
    "modelname = 'model_learning_rate_{}_optimizer_{}_'.format(lr, opt)\n",
    "torch.save([modeleval.encoder.state_dict(), modeleval.decoder.state_dict()], modelname)"
   ]
  },
  {
   "cell_type": "code",
   "execution_count": null,
   "metadata": {
    "collapsed": true
   },
   "outputs": [],
   "source": []
  },
  {
   "cell_type": "code",
   "execution_count": null,
   "metadata": {
    "collapsed": true
   },
   "outputs": [],
   "source": [
    "# Plot training and test loss\n",
    "AEeval.plot_loss()"
   ]
  },
  {
   "cell_type": "markdown",
   "metadata": {},
   "source": [
    "## Use latent features to train and test a simple MLP"
   ]
  },
  {
   "cell_type": "code",
   "execution_count": null,
   "metadata": {
    "collapsed": true
   },
   "outputs": [],
   "source": [
    "n_in = 32768 #512*8*8\n",
    "n_hidden = 512\n",
    "n_out = 10\n",
    "model_epochs = 20\n",
    "model_lr = 0.001\n",
    "l2 = 0.0\n",
    "\n",
    "#train classifier\n",
    "encoder = AEeval.encoder\n",
    "model = LogisticRegression(n_in, n_hidden, n_out)\n",
    "modeleval = ModelEvaluator(model, model_epochs, model_lr, l2=l2, use_gpu=True, optim='adam')\n",
    "acc_ = modeleval.evaluator(encoder, trainloader, testloader, noise=add_noise, print_every=100, validation=False)\n",
    "\n",
    "print('Accuracy on test set {.2f}'.format(acc_))"
   ]
  },
  {
   "cell_type": "code",
   "execution_count": null,
   "metadata": {
    "collapsed": true
   },
   "outputs": [],
   "source": [
    "modeleval.plot_loss()"
   ]
  },
  {
   "cell_type": "markdown",
   "metadata": {},
   "source": [
    "## Denoising AutoEncoder\n",
    "\n",
    "Add noise to encoder"
   ]
  },
  {
   "cell_type": "code",
   "execution_count": null,
   "metadata": {
    "collapsed": true
   },
   "outputs": [],
   "source": [
    "# Model\n",
    "l2 = 0.0\n",
    "optim = 'adam'\n",
    "# Pytorch Cross Entropy Loss\n",
    "encoder = Encoder(batch_size=batch_size)\n",
    "decoder = Decoder(batch_size=batch_size)\n",
    "add_noise = True\n",
    "AEeval1 = AutoEncoderEvaluator(encoder, decoder, epochs, lr, batch_size=batch_size, l2=l2, add_noise=add_noise, use_gpu=True, optim=optim)\n",
    "AEeval1.evaluator(trainloader, testloader, print_every=100)\n",
    "\n",
    "modelname = 'model_denoise_learning_rate_{}_optimizer_{}_'.format(lr, opt)\n",
    "torch.save([modeleval.encoder.state_dict(), modeleval.decoder.state_dict()], modelname)"
   ]
  },
  {
   "cell_type": "markdown",
   "metadata": {},
   "source": [
    "## Use latent features to train and test a simple MLP"
   ]
  },
  {
   "cell_type": "code",
   "execution_count": null,
   "metadata": {
    "collapsed": true
   },
   "outputs": [],
   "source": [
    "n_in = 32768 #512*8*8\n",
    "n_hidden = 512\n",
    "n_out = 10\n",
    "model_epochs = 20\n",
    "model_lr = 0.01\n",
    "l2 = 0.0\n",
    "#train classifier\n",
    "encoder = AEeval.encoder\n",
    "model = LogisticRegression(n_in, n_hidden, n_out)\n",
    "modeleval = ModelEvaluator(model, model_epochs, model_lr, l2=l2, use_gpu=True, optim='adam')\n",
    "acc_ = modeleval.evaluator(encoder, trainloader, testloader, noise=add_noise, print_every=100, validation=False)\n",
    "\n",
    "print('Accuracy on test set {.2f}'.format(acc_))"
   ]
  },
  {
   "cell_type": "code",
   "execution_count": null,
   "metadata": {
    "collapsed": true
   },
   "outputs": [],
   "source": [
    "modeleval.plot_loss()"
   ]
  },
  {
   "cell_type": "markdown",
   "metadata": {},
   "source": [
    "## Get latent features from Soccer Dataset and train a logistic regression classifier"
   ]
  },
  {
   "cell_type": "code",
   "execution_count": null,
   "metadata": {
    "collapsed": true
   },
   "outputs": [],
   "source": [
    "n_in = 32768 #512*8*8\n",
    "n_hidden = 512\n",
    "n_out = 2\n",
    "batch_size = 100\n",
    "epochs = 20\n",
    "noise = False\n",
    "l2 = 0.0\n",
    "lr = 0.01\n",
    "model = LogisticRegression(n_in, n_hidden, n_out)\n",
    "modeleval = ModelEvaluator(model, epochs, lr, l2, use_gpu=True, optim='adam')"
   ]
  },
  {
   "cell_type": "code",
   "execution_count": null,
   "metadata": {
    "collapsed": true
   },
   "outputs": [],
   "source": [
    "transform = transforms.Compose([\n",
    "        transforms.RandomResizedCrop(32),\n",
    "        transforms.RandomHorizontalFlip(),\n",
    "        transforms.ToTensor(),\n",
    "        transforms.Normalize([0.485, 0.456, 0.406], [0.229, 0.224, 0.225])])\n",
    "    \n",
    "dataset = SoccerDataset(transform=transform)\n",
    "dataloader = torch.utils.data.DataLoader(dataset, batch_size=batch_size, shuffle=True, num_workers=3)"
   ]
  },
  {
   "cell_type": "code",
   "execution_count": null,
   "metadata": {
    "collapsed": true
   },
   "outputs": [],
   "source": [
    "for epoch in range(epochs):\n",
    "    model.train()\n",
    "    modeleval.train(encoder, epoch, dataloader, noise=False, print_every=100)"
   ]
  },
  {
   "cell_type": "markdown",
   "metadata": {},
   "source": [
    "## Test classifier on new images"
   ]
  },
  {
   "cell_type": "code",
   "execution_count": null,
   "metadata": {
    "collapsed": true
   },
   "outputs": [],
   "source": [
    "test_path = 'Session6/SoccerData/test'\n",
    "\n",
    "def test_img(path, encoder, model):\n",
    "    img = Image.open(path)\n",
    "    plt.imshow(img)\n",
    "    transform = transforms.Compose([\n",
    "        transforms.Resize(64),\n",
    "        transforms.CenterCrop(32),\n",
    "        transforms.ToTensor(),\n",
    "        transforms.Normalize([0.485, 0.456, 0.406], [0.229, 0.224, 0.225])])\n",
    "    img = transform(img)\n",
    "    img = img.numpy()\n",
    "    img = img[np.newaxis, ...]\n",
    "    img = torch.Tensor(img)\n",
    "\n",
    "    model.eval()\n",
    "\n",
    "    with torch.no_grad():\n",
    "        latent_repr = encoder.forward(img)\n",
    "        output = model.forward(latent_repr)\n",
    "        _, idx = torch.max(test_preds.data, 1)\n",
    "        print(str(output))\n",
    "        print('prediction: %s' % ['not soccer', 'soccer'][idx])"
   ]
  },
  {
   "cell_type": "code",
   "execution_count": null,
   "metadata": {
    "collapsed": true
   },
   "outputs": [],
   "source": [
    "img1_path = test_path + '/test1.jpg'\n",
    "test_img(img1_path, encoder, model)"
   ]
  }
 ],
 "metadata": {
  "kernelspec": {
   "display_name": "Python 3",
   "language": "python",
   "name": "python3"
  },
  "language_info": {
   "codemirror_mode": {
    "name": "ipython",
    "version": 3
   },
   "file_extension": ".py",
   "mimetype": "text/x-python",
   "name": "python",
   "nbconvert_exporter": "python",
   "pygments_lexer": "ipython3",
   "version": "3.6.1"
  }
 },
 "nbformat": 4,
 "nbformat_minor": 2
}
