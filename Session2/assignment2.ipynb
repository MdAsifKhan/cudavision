{
 "cells": [
  {
   "cell_type": "markdown",
   "metadata": {},
   "source": [
    "## Assignment 2"
   ]
  },
  {
   "cell_type": "markdown",
   "metadata": {},
   "source": [
    "In this task we implement a simple single hidden layer neural networks with logistic regression classifier on CIFAR10 dataset. \n",
    "Our implementation consists of 2 main class:\n",
    "\n",
    "* LogisticRegression \n",
    "\n",
    "    Contains implementation of logistic regression classifier with 1 hidden layer on top of pytorch nn Module.\n",
    "\n",
    "\n",
    "* ModelEvaluator \n",
    "\n",
    "    Class consisting of basic functionalities for training, testing and visualizing loss.\n",
    "\n",
    "For extra task we implement another class named: CrossValidation. THis class supports functionality of tuning hyperparameters with grid search and k-fold cross validation.  "
   ]
  },
  {
   "cell_type": "code",
   "execution_count": 8,
   "metadata": {
    "collapsed": true
   },
   "outputs": [],
   "source": [
    "#importing basic stuff\n",
    "import torch\n",
    "import torch.nn as nn\n",
    "import torch.optim as optim\n",
    "from sklearn.utils import shuffle as skshuffle\n",
    "import numpy as np\n",
    "import torchvision.datasets as dsets\n",
    "import torchvision.transforms as transforms\n",
    "from matplotlib import pyplot as plt"
   ]
  },
  {
   "cell_type": "markdown",
   "metadata": {},
   "source": [
    "Implement logistic regression classifier using pytorch."
   ]
  },
  {
   "cell_type": "code",
   "execution_count": null,
   "metadata": {
    "collapsed": true
   },
   "outputs": [],
   "source": [
    "class LogisticRegression(torch.nn.Module):\n",
    "    def __init__(self, n_in, n_hidden, n_out):\n",
    "        super(LogisticRegression, self).__init__()\n",
    "        '''\n",
    "        n_in: Number of Inputs\n",
    "        n_hidden: Number of Hidden Units\n",
    "        n_out: Number of Output Units\n",
    "        '''\n",
    "        self.n_in = n_in\n",
    "        self.n_out = n_out\n",
    "        self.n_hidden = n_hidden\n",
    "        self.fc1 = nn.Linear(self.n_in, self.n_hidden)\n",
    "        self.fc2 = nn.Linear(self.n_hidden, self.n_out)\n",
    "        self.nonlin = nn.ReLU()\n",
    "        self.loss = torch.nn.CrossEntropyLoss()\n",
    "\n",
    "    def forward(self, X):\n",
    "        '''\n",
    "        forward pass\n",
    "        '''\n",
    "        return self.fc2(self.nonlin(self.fc1(X)))\n",
    "\n"
   ]
  },
  {
   "cell_type": "markdown",
   "metadata": {},
   "source": [
    "Basic functionalities for evaluating model is implemented as a part of ModelEvaluator class."
   ]
  },
  {
   "cell_type": "code",
   "execution_count": null,
   "metadata": {
    "collapsed": true
   },
   "outputs": [],
   "source": [
    "class ModelEvaluator:\n",
    "    def __init__(self, model, epochs, lr, use_gpu=False, optim='adam'):\n",
    "        '''\n",
    "        model: instance of pytorch model class\n",
    "        epochs: number of training epochs\n",
    "        lr: learning rate\n",
    "        use_gpu: to use gpu\n",
    "        optim: optimizer used for training, SGD or adam\n",
    "        '''\n",
    "        self.epochs = epochs\n",
    "        self.lr = lr\n",
    "        self.model = model\n",
    "        self.use_gpu = use_gpu\n",
    "        self.epoch_loss = []\n",
    "        if self.use_gpu:\n",
    "            self.device = torch.device('cuda:0' if torch.cuda.is_available() else 'cpu')\n",
    "\n",
    "            if self.device == 'cuda:0':\n",
    "                if torch.cuda.device_count()>1:\n",
    "                    self.model = nn.DataParallel(model)\n",
    "                self.model.to(device)\n",
    "        if optim=='adam':\n",
    "            self.optimizer = torch.optim.Adam(self.model.parameters(), lr=lr)\n",
    "        elif optim=='sgd':\n",
    "            self.optimizer = optim.SGD(self.model.parameters(), lr = lr, momentum=0.9)\n",
    "        else:\n",
    "            ValueError('Optimizer Not Supported')\n",
    "\n",
    "\n",
    "    def train(self, trainloader, testloader, validation=False):\n",
    "        '''\n",
    "        method for training\n",
    "        '''\n",
    "        iter_ = 0\n",
    "        for epoch in range(self.epochs):\n",
    "            print('Epoch-{}'.format(epoch+1))\n",
    "            print('-----------------')\n",
    "            loss_batch = []\n",
    "            for train_data, train_labels in trainloader:\n",
    "                if self.use_gpu and self.device == 'cuda:0':\n",
    "                    train_data, train_labels = train_data.to(self.device), train_labels.to(self.device)\n",
    "                train_data = train_data.reshape(-1, 32*32*3)\n",
    "                train_data = train_data / 255\n",
    "                train_preds = self.model.forward(train_data)\n",
    "                loss = self.model.loss(train_preds, train_labels)\n",
    "                self.optimizer.zero_grad()\n",
    "                loss.backward()\n",
    "                self.optimizer.step()\n",
    "                iter_ += 1\n",
    "                print('Iter-{0}, training loss{1:.2f}'.format(iter_, loss))\n",
    "                if validation:\n",
    "                    if iter_%500 == 0:\n",
    "                        acc_test = self.test(testloader)\n",
    "                        print('Accuracy on Test Set {:.2f}'.format(acc_test))\n",
    "                loss_batch.append(loss)\n",
    "            self.epoch_loss.append(np.sum(loss_batch))    \n",
    "\n",
    "    def test(self, testloader):\n",
    "        '''\n",
    "        method for testing\n",
    "        '''\n",
    "        correct_ = 0\n",
    "        total_ = 0\n",
    "        with torch.no_grad():\n",
    "            for test_data, test_labels in testloader:\n",
    "                if self.use_gpu and self.device == 'cuda:0':\n",
    "                    test_data, test_labels = test_data.to(self.device), test_labels.to(self.device)\n",
    "                test_data = test_data.reshape(-1, 32*32*3)\n",
    "                test_data = test_data / 255\n",
    "                test_preds = self.model.forward(test_data)\n",
    "                _, test_pred_labels = torch.max(test_preds.data, 1)\n",
    "                total_ += test_labels.size(0)\n",
    "                correct_ += (test_pred_labels.cpu() == test_labels.cpu()).sum()\n",
    "                accuracy_test = (100*correct_/total_)\n",
    "            return accuracy_test\n",
    "\n",
    "    def plot_loss(self):\n",
    "        '''\n",
    "        to visualize loss\n",
    "        '''\n",
    "        plt.plot(range(len(self.epoch_loss)), self.epoch_loss)\n",
    "        plt.xlabel('Iteration')\n",
    "        plt.ylabel('Loss')\n",
    "        plt.show()"
   ]
  },
  {
   "cell_type": "markdown",
   "metadata": {},
   "source": [
    "# Load and Prepare Dataset"
   ]
  },
  {
   "cell_type": "code",
   "execution_count": 10,
   "metadata": {},
   "outputs": [
    {
     "name": "stdout",
     "output_type": "stream",
     "text": [
      "Files already downloaded and verified\n",
      "Files already downloaded and verified\n"
     ]
    }
   ],
   "source": [
    "trainset = dsets.CIFAR10('./data', train=True, download=True, transform=transforms.ToTensor())\n",
    "testset = dsets.CIFAR10('./data', train=False, download=True, transform=transforms.ToTensor())\n",
    "classes = ('plane', 'car', 'bird', 'cat', 'deer', 'dog', 'frog', 'horse', 'ship', 'truck')"
   ]
  },
  {
   "cell_type": "code",
   "execution_count": 11,
   "metadata": {
    "collapsed": true
   },
   "outputs": [],
   "source": [
    "# Parameters\n",
    "n_in = np.prod(trainset[0][0].numpy().shape)\n",
    "n_out = len(classes)\n",
    "batch_size = 100\n",
    "epochs = 100"
   ]
  },
  {
   "cell_type": "code",
   "execution_count": null,
   "metadata": {
    "collapsed": true
   },
   "outputs": [],
   "source": [
    "# Hyperparameters\n",
    "lr = 0.001\n",
    "n_hidden = 512"
   ]
  },
  {
   "cell_type": "code",
   "execution_count": null,
   "metadata": {
    "collapsed": true
   },
   "outputs": [],
   "source": [
    "# Data Loader\n",
    "trainloader = torch.utils.data.DataLoader(trainset, batch_size=batch_size, shuffle=True, num_workers=2)\n",
    "testloader = torch.utils.data.DataLoader(testset, batch_size=batch_size, shuffle=True, num_workers=2)"
   ]
  },
  {
   "cell_type": "code",
   "execution_count": null,
   "metadata": {
    "collapsed": true
   },
   "outputs": [],
   "source": [
    "# Model\n",
    "model = LogisticRegression(n_in, n_hidden, n_out)\n",
    "modeleval = ModelEvaluator(model, epochs, lr, use_gpu=True)\n",
    "modeleval.train(trainloader, testloader)\n",
    "modeleval.plot_loss()\n",
    "accuracy_test = modeleval.test(testloader)\n",
    "print('Accuracy of model on test set {0:.2f}'.format(accuracy_test))"
   ]
  },
  {
   "cell_type": "code",
   "execution_count": null,
   "metadata": {
    "collapsed": true
   },
   "outputs": [],
   "source": []
  },
  {
   "cell_type": "markdown",
   "metadata": {},
   "source": [
    "## K-fold Cross Validation"
   ]
  },
  {
   "cell_type": "code",
   "execution_count": null,
   "metadata": {
    "collapsed": true
   },
   "outputs": [],
   "source": [
    "class CrossValidation:\n",
    "    def __init__(self, k, batch_size, trainset, use_gpu):\n",
    "        '''\n",
    "        k: number of folds\n",
    "        batch_size: batch size for training\n",
    "        trainset: training data as pytorch iterator\n",
    "        use_gpu: boolean variable to use gpus\n",
    "        '''\n",
    "        self.k = k\n",
    "        self.nm_samples = len(trainset)\n",
    "        self.indices = list(range(self.nm_samples))\n",
    "        self.trainset = trainset\n",
    "        self.batch_size = batch_size\n",
    "        self.use_gpu = use_gpu\n",
    "        \n",
    "    def kfold(self):\n",
    "        '''\n",
    "        k-fold split\n",
    "        '''\n",
    "        for i in range(self.k):\n",
    "            train_idx = [idx for j,idx in enumerate(self.indices) if j%self.k != i]\n",
    "            valid_idx = [idx for j,idx in enumerate(self.indices) if j%self.k == i]            \n",
    "            yield train_idx, valid_idx\n",
    "    \n",
    "    def trainloader_sampling(self):\n",
    "        '''\n",
    "        k-fold samples\n",
    "        '''\n",
    "        for train_idx, valid_idx in self.kfold():\n",
    "            train_sampler = SubsetRandomSampler(train_idx)\n",
    "            valid_sampler = SubsetRandomSampler(valid_idx)\n",
    "            yield train_sampler, valid_sampler\n",
    "\n",
    "    def gridsearchCV(self, parameters):\n",
    "        '''\n",
    "        find best parameters by doing grid search with k-fold cross validation\n",
    "        '''\n",
    "        accuracy_mat = np.zeros((len(parameters['lr']), len(parameters['n_hidden'])))\n",
    "        for ii,lr in enumerate(parameters['lr']):\n",
    "            for jj,n_hidden in enumerate(parameters['n_hidden']):\n",
    "                fold_accuracy = []\n",
    "                i = 0\n",
    "                for train_sampler, valid_sampler in self.trainloader_sampling():\n",
    "                    trainloader = torch.utils.data.DataLoader(self.trainset, batch_size=self.batch_size, sampler=train_sampler, num_workers=2)\n",
    "                    validloader = torch.utils.data.DataLoader(self.trainset, batch_size=self.batch_size, sampler=valid_sampler, num_workers=2)    \n",
    "                    \n",
    "                    model = LogisticRegression(n_in, n_hidden, n_out)\n",
    "                    modeleval = ModelEvaluator(model, epochs, lr, use_gpu=self.use_gpu)\n",
    "                    modeleval.train(trainloader, validloader, validation=True)\n",
    "                    #modeleval.plot_loss()\n",
    "                    accuracy_valid = modeleval.test(validloader)\n",
    "                    print('Accuracy of model on validation set {0:.2f}'.format(accuracy_valid))\n",
    "                    fold_accuracy.append(accuracy_valid)\n",
    "                    i += 1\n",
    "                mean_acc = np.mean(fold_accuracy)\n",
    "                if mean_acc > np.max(accuracy_mat):\n",
    "                    best_model, best_lr, best_n_hidden = copy.deepcopy(model), lr, n_hidden\n",
    "                    bestmodeleval = copy.deepcopy(modeleval)\n",
    "                accuracy_mat[ii, jj] = np.mean(fold_accuracy)\n",
    "        return accuracy_mat, best_model, best_lr, best_n_hidden, bestmodeleval"
   ]
  },
  {
   "cell_type": "markdown",
   "metadata": {},
   "source": [
    "## Run k-fold and evaluate with best parameter"
   ]
  },
  {
   "cell_type": "code",
   "execution_count": null,
   "metadata": {
    "collapsed": true
   },
   "outputs": [],
   "source": [
    "# Number of Parameters\n",
    "parameters = {'lr':[0.00001, 0.0001, 0.001, 0.01], 'n_hidden': [512, 256, 128]}\n",
    "# k fold cross validation\n",
    "k = 3\n",
    "cv = CrossValidation(k=k, batch_size=batch_size, trainset=trainset, use_gpu=True)\n",
    "accuracy_mat, best_model, best_lr, best_n_hidden, bestmodeleval = cv.gridsearchCV(parameters)\n",
    "\n",
    "# Visualization accuracy vs parameters\n",
    "fig, ax = plt.subplots()\n",
    "lr_ = [str(lr) for lr in parameters['lr']]\n",
    "hidden_ = [str(n_hidden) for n_hidden in parameters['n_hidden']]\n",
    "im, cbar = heatmap(accuracy_mat, lr_, hidden_, ax=ax,\n",
    "                   cmap='YlGn', cbarlabel='lr vs hidden_')\n",
    "texts = annotate_heatmap(im, valfmt='{x:.1f} t')\n",
    "fig.tight_layout()\n",
    "plt.show()\n",
    "\n",
    "testloader = torch.utils.data.DataLoader(testset, batch_size=batch_size, shuffle=True, num_workers=2)\n",
    "accuracy_test = bestmodeleval.test(testloader)\n",
    "print('Accuracy of best model on test set with lr= {0:.2f}, hidden units= {1:.2f}, is {2:.2f}'.format(best_lr, best_n_hidden, accuracy_test))"
   ]
  }
 ],
 "metadata": {
  "kernelspec": {
   "display_name": "Python 3",
   "language": "python",
   "name": "python3"
  },
  "language_info": {
   "codemirror_mode": {
    "name": "ipython",
    "version": 3
   },
   "file_extension": ".py",
   "mimetype": "text/x-python",
   "name": "python",
   "nbconvert_exporter": "python",
   "pygments_lexer": "ipython3",
   "version": "3.6.1"
  }
 },
 "nbformat": 4,
 "nbformat_minor": 2
}
