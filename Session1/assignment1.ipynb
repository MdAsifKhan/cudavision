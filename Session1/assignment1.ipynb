{
 "cells": [
  {
   "cell_type": "markdown",
   "metadata": {},
   "source": [
    "## CUDA Vision Lab\n"
   ]
  },
  {
   "cell_type": "code",
   "execution_count": null,
   "metadata": {
    "collapsed": true
   },
   "outputs": [],
   "source": []
  },
  {
   "cell_type": "markdown",
   "metadata": {},
   "source": [
    "# Assignment 1: Two layer neural network using numpy\n",
    "\n",
    "\n",
    "In this task we implement a simple neural network (NN) with an imput and an output layer. We use MNIST for our experiments. "
   ]
  },
  {
   "cell_type": "code",
   "execution_count": 1,
   "metadata": {
    "collapsed": true
   },
   "outputs": [],
   "source": [
    "# import some libraries\n",
    "import os, struct\n",
    "from array import array as pyarray\n",
    "from numpy import  array, zeros\n",
    "import numpy as np\n",
    "from sklearn.utils import shuffle as skshuffle\n",
    "from matplotlib import pyplot as plt\n"
   ]
  },
  {
   "cell_type": "markdown",
   "metadata": {},
   "source": [
    "# Function to load mnist dataset\n",
    "\n",
    "A simple function to load mnist dataset. Note: This function expects data files in a path $\\textit{'data/raw/'}$ from a current directory."
   ]
  },
  {
   "cell_type": "code",
   "execution_count": 2,
   "metadata": {
    "collapsed": true
   },
   "outputs": [],
   "source": [
    "def load_mnist(datafile='', labelfile=''):\n",
    "    \"\"\"\n",
    "    Loads MNIST files into 3D numpy arrays \n",
    "    Adapted from: http://abel.ee.ucla.edu/cvxopt/_downloads/mnist.py\n",
    "    \"\"\"\n",
    "    DATA_PATH = 'data/raw/'\n",
    "    images = open(DATA_PATH + datafile, 'rb')\n",
    "    flabel = open(DATA_PATH + labelfile, 'rb')\n",
    "    magic_nr, size = struct.unpack(\">II\", flabel.read(8))\n",
    "    label = pyarray(\"b\", flabel.read())\n",
    "    flabel.close()\n",
    "\n",
    "    magic_nr, size, rows, cols = struct.unpack(\">IIII\", images.read(16))\n",
    "    img = pyarray(\"B\", images.read())\n",
    "    images.close()\n",
    "\n",
    "    ind = [k for k in range(size) if label[k] in np.arange(10)]\n",
    "    N = len(ind)\n",
    "\n",
    "    images = zeros((N, rows, cols))\n",
    "    labels = zeros((N ) )\n",
    "    for i in range(len(ind)):\n",
    "        images[i] = array(img[ ind[i]*rows*cols : (ind[i]+1)*rows*cols ]).reshape((rows, cols))\n",
    "        labels[i] = label[ind[i]]\n",
    "\n",
    "    return images, labels"
   ]
  },
  {
   "cell_type": "markdown",
   "metadata": {},
   "source": [
    "# Neural Network \n",
    "\n",
    "We implement logistic regression for multi class classification as a 2 layer neural network. For this task we have implemented a class $\\textbf{SimpleNN}$. We use softmax as a non-linearity and mean square error as a loss function. We encountered a problem of stability with softmax. To address the problem we use clipping which prevents exponent scores from divergence."
   ]
  },
  {
   "cell_type": "code",
   "execution_count": 3,
   "metadata": {
    "collapsed": true
   },
   "outputs": [],
   "source": [
    "class SimpleNN:\n",
    "\n",
    "    def __init__(self, n_in, n_out, alpha, batch_size, nm_iters, nonlin='softmax'):\n",
    "        # Initializa various parameters for a NN\n",
    "        self.n_in = n_in # Number of Input Neuron\n",
    "        self.n_out = n_out # Number of Output Neuron\n",
    "        self.alpha = alpha # Learning Rate\n",
    "        self.batch_size = batch_size # Batch Size\n",
    "        self.nm_iters = nm_iters # Number of iterations\n",
    "        self.nonlin = nonlin # Type of non linearity\n",
    "        self.W = np.random.randn(self.n_in, self.n_out) #Weight initialization\n",
    "        self.bias = np.zeros(self.n_out) #Bias Initialization\n",
    "        \n",
    "    # Implement softmax as a non-linearity\n",
    "    def softmax(self, x):\n",
    "        # Clipping to ensure stability\n",
    "        exp_scores = np.exp(x-np.max(x))\n",
    "        prob = (exp_scores.T / np.sum(exp_scores, axis=1)).T\n",
    "        return prob\n",
    "    \n",
    "    def MSElossfunc(self, y, pred):\n",
    "        loss = np.sum(np.power((y-pred),2), axis=1)\n",
    "        return np.sum(loss)\n",
    "    \n",
    "    # forward pass to compute probability scores\n",
    "    def forward(self, X):\n",
    "        # Forward Pass \n",
    "        pred = np.dot(X,self.W) + self.bias\n",
    "        return self.softmax(pred)\n",
    "    \n",
    "    # for batchwise training, given function generates minibatches of data\n",
    "    def get_minibatches(self, X, y, shuffle=True):\n",
    "        minibatches = []\n",
    "        X_shuff, y_shuff = np.copy(X), np.copy(y)\n",
    "        if shuffle:\n",
    "            X_shuff, y_shuff = skshuffle(X_shuff, y_shuff)\n",
    "        for i in range(0, X_shuff.shape[0], self.batch_size):\n",
    "            yield X_shuff[i:i + self.batch_size], y_shuff[i:i+self.batch_size]\n",
    "    \n",
    "    # batchwise training function\n",
    "    def train(self, X, y):\n",
    "        loss_iter = []\n",
    "        for i in range(self.nm_iters):\n",
    "            # Generate Mini-batches\n",
    "            mb_iter = self.get_minibatches(X, y, shuffle=True)\n",
    "            loss_mb = []\n",
    "            for X_mb, y_mb in mb_iter:\n",
    "                pred_mb = self.forward(X_mb)\n",
    "                loss = self.MSElossfunc(y_mb, pred_mb)\n",
    "                # Compute Gradients\n",
    "                grad = np.copy(pred_mb)\n",
    "                grad[range(self.batch_size),y_mb.argmax(axis=1)] -= 1\n",
    "                gradL_W = 2*np.dot(X_mb.T, grad)\n",
    "                gradL_b = 2*np.sum(grad, axis=0, keepdims=True).flatten()\n",
    "                # Gradient Descent\n",
    "                self.W -= self.alpha*gradL_W\n",
    "                self.bias -= self.alpha*gradL_b\n",
    "                loss_mb.append(loss)\n",
    "            loss_ = np.mean(loss_mb)\n",
    "            print(loss_)\n",
    "            loss_iter.append(loss_)\n",
    "        return loss_iter"
   ]
  },
  {
   "cell_type": "markdown",
   "metadata": {},
   "source": [
    "Some utilities to visualize the loss and report the performance on test set"
   ]
  },
  {
   "cell_type": "code",
   "execution_count": 4,
   "metadata": {
    "collapsed": true
   },
   "outputs": [],
   "source": [
    "def plot_loss(loss):\n",
    "    plt.plot(range(len(loss)), loss)\n",
    "    plt.xlabel('Iteration')\n",
    "    plt.ylabel('Loss')\n",
    "    plt.show()  \n",
    "\n",
    "def accuracy(pred_label, y_test):\n",
    "    accuracy = sum(pred_label == y_test)/(float(len(y_test)))\n",
    "    print('Accuracy {:.2f}'.format(accuracy))"
   ]
  },
  {
   "cell_type": "markdown",
   "metadata": {},
   "source": [
    "To prevent divergence of loss we scale all images by the factor of 255 (maximum pixel value)"
   ]
  },
  {
   "cell_type": "code",
   "execution_count": 5,
   "metadata": {
    "collapsed": true
   },
   "outputs": [],
   "source": [
    "X_train, y_train = load_mnist(datafile='train-images-idx3-ubyte', labelfile='train-labels-idx1-ubyte')\n",
    "X_train = np.reshape(X_train, (X_train.shape[0], -1))\n",
    "# Encode label as one hot vector\n",
    "y_train = y_train.reshape(1, y_train.shape[0])\n",
    "y_train = np.eye(10)[y_train.astype('int32')]\n",
    "y_train = y_train.reshape(y_train.shape[1], y_train.shape[2])\n",
    "\n",
    "X_train = X_train /255\n",
    "n_in = X_train.shape[1]\n",
    "n_out = 10\n",
    "\n",
    "alpha = 0.00001\n",
    "batch_size = 200\n",
    "nm_iters = 200\n",
    "nonlin = 'softmax'\n",
    "nn_model = SimpleNN(n_in, n_out, alpha, batch_size, nm_iters)"
   ]
  },
  {
   "cell_type": "markdown",
   "metadata": {},
   "source": [
    "Training neural network"
   ]
  },
  {
   "cell_type": "code",
   "execution_count": 6,
   "metadata": {},
   "outputs": [
    {
     "name": "stdout",
     "output_type": "stream",
     "text": [
      "303.012410182\n",
      "285.432184992\n",
      "269.440646294\n",
      "254.522044862\n",
      "238.917571875\n",
      "223.260123916\n",
      "208.868816412\n",
      "196.241897898\n",
      "185.410426447\n",
      "176.051812748\n",
      "167.841436648\n",
      "160.716414874\n",
      "154.327172134\n",
      "148.594213971\n",
      "143.524484795\n",
      "138.924965861\n",
      "134.712936626\n",
      "130.879624546\n",
      "127.416051245\n",
      "124.219872247\n",
      "121.337950097\n",
      "118.634845844\n",
      "116.10424539\n",
      "113.773555406\n",
      "111.638831368\n",
      "109.612738828\n",
      "107.730852566\n",
      "105.945625372\n",
      "104.235132952\n",
      "102.653172228\n",
      "101.150246218\n",
      "99.7211373742\n",
      "98.3716087048\n",
      "97.0556932677\n",
      "95.8385022838\n",
      "94.643944925\n",
      "93.5101030541\n",
      "92.4365441889\n",
      "91.3869231251\n",
      "90.3893694161\n",
      "89.419015682\n",
      "88.4857063037\n",
      "87.6220115022\n",
      "86.7449314973\n",
      "85.9140523965\n",
      "85.118530876\n",
      "84.3436008611\n",
      "83.5973619795\n",
      "82.8651232796\n",
      "82.165185271\n",
      "81.4831578703\n",
      "80.8269101027\n",
      "80.1802346765\n",
      "79.5642246802\n",
      "78.9506871054\n",
      "78.3852376296\n",
      "77.7979250344\n",
      "77.2544705417\n",
      "76.7075915349\n",
      "76.1935161828\n",
      "75.672169057\n",
      "75.1817432382\n",
      "74.6972411061\n",
      "74.2182208317\n",
      "73.7592613898\n",
      "73.3018394009\n",
      "72.8697144951\n",
      "72.4351608133\n",
      "72.0112759908\n",
      "71.6025526141\n",
      "71.1969716657\n",
      "70.8017515614\n",
      "70.4113013565\n",
      "70.0353078306\n",
      "69.6585568787\n",
      "69.2990199456\n",
      "68.9428451677\n",
      "68.5931567563\n",
      "68.2405332947\n",
      "67.9126617054\n",
      "67.5824411829\n",
      "67.2554847837\n",
      "66.9388791029\n",
      "66.627602472\n",
      "66.3191766334\n",
      "66.0156162129\n",
      "65.7143009104\n",
      "65.4367581501\n",
      "65.1425940397\n",
      "64.8621877473\n",
      "64.5885217471\n",
      "64.3194181376\n",
      "64.0468198468\n",
      "63.7892566474\n",
      "63.5256649405\n",
      "63.2752383863\n",
      "63.030240053\n",
      "62.7865965478\n",
      "62.540148928\n",
      "62.3012748232\n",
      "62.0709767536\n",
      "61.8404684576\n",
      "61.6173570285\n",
      "61.3903499656\n",
      "61.1674198349\n",
      "60.9554648351\n",
      "60.7402013465\n",
      "60.536136262\n",
      "60.325602517\n",
      "60.1241796198\n",
      "59.9292689169\n",
      "59.7284612191\n",
      "59.5375992521\n",
      "59.3431866723\n",
      "59.1593688627\n",
      "58.9670229484\n",
      "58.7882265128\n",
      "58.5998458482\n",
      "58.4301143657\n",
      "58.2511239141\n",
      "58.0858405592\n",
      "57.9116466707\n",
      "57.7310912395\n",
      "57.5713660865\n",
      "57.4017395302\n",
      "57.2488512962\n",
      "57.0880188258\n",
      "56.9298890445\n",
      "56.7715740752\n",
      "56.6174750448\n",
      "56.4706112037\n",
      "56.3125787048\n",
      "56.1688208168\n",
      "56.0246285461\n",
      "55.8816579465\n",
      "55.7387155841\n",
      "55.5949140072\n",
      "55.4618369672\n",
      "55.3191896112\n",
      "55.1863023219\n",
      "55.0468770507\n",
      "54.9166940427\n",
      "54.7847406661\n",
      "54.6561340801\n",
      "54.521123199\n",
      "54.4055020513\n",
      "54.2775509131\n",
      "54.1512839876\n",
      "54.0270344727\n",
      "53.9010674318\n",
      "53.7805804913\n",
      "53.6693598746\n",
      "53.544469275\n",
      "53.428689431\n",
      "53.3165968644\n",
      "53.2072404993\n",
      "53.0814584464\n",
      "52.977969911\n",
      "52.8573007479\n",
      "52.7517889327\n",
      "52.6471131151\n",
      "52.5311311593\n",
      "52.4313849191\n",
      "52.3310776632\n",
      "52.2181973775\n",
      "52.1123274383\n",
      "52.0070527147\n",
      "51.9092499567\n",
      "51.8164317421\n",
      "51.7082532504\n",
      "51.6067656228\n",
      "51.5127431199\n",
      "51.4214471213\n",
      "51.3187085468\n",
      "51.2226892433\n",
      "51.1276147301\n",
      "51.0312203434\n",
      "50.9384478455\n",
      "50.8512200965\n",
      "50.7611304958\n",
      "50.6646868197\n",
      "50.580286984\n",
      "50.4872576544\n",
      "50.4031798937\n",
      "50.310596684\n",
      "50.2257412663\n",
      "50.1373582012\n",
      "50.0517992353\n",
      "49.9661526352\n",
      "49.8807442101\n",
      "49.8042483675\n",
      "49.7198955695\n",
      "49.6278898217\n",
      "49.5578621785\n",
      "49.4703871995\n",
      "49.3939809748\n",
      "49.3126478903\n",
      "49.2273437191\n",
      "49.1565233454\n",
      "49.0837948109\n"
     ]
    }
   ],
   "source": [
    "loss = nn_model.train(X_train, y_train)"
   ]
  },
  {
   "cell_type": "code",
   "execution_count": 7,
   "metadata": {},
   "outputs": [
    {
     "data": {
      "image/png": "[encoded data removed]",
      "text/plain": [
       "<matplotlib.figure.Figure at 0x7f30f1877400>"
      ]
     },
     "metadata": {},
     "output_type": "display_data"
    }
   ],
   "source": [
    "plot_loss(loss)"
   ]
  },
  {
   "cell_type": "markdown",
   "metadata": {},
   "source": [
    "Load Test Data"
   ]
  },
  {
   "cell_type": "code",
   "execution_count": 8,
   "metadata": {
    "collapsed": true
   },
   "outputs": [],
   "source": [
    "X_test, y_test = load_mnist(datafile='t10k-images-idx3-ubyte', labelfile='t10k-labels-idx1-ubyte')\n",
    "X_test = np.reshape(X_test, (X_test.shape[0], -1))\n",
    "X_test = X_test /255"
   ]
  },
  {
   "cell_type": "markdown",
   "metadata": {},
   "source": [
    "Test trained model"
   ]
  },
  {
   "cell_type": "code",
   "execution_count": 9,
   "metadata": {},
   "outputs": [
    {
     "name": "stdout",
     "output_type": "stream",
     "text": [
      "Accuracy 0.85\n"
     ]
    }
   ],
   "source": [
    "pred_test = nn_model.forward(X_test)\n",
    "pred_label = np.argmax(pred_test, axis=1)\n",
    "accuracy(pred_label, y_test)"
   ]
  },
  {
   "cell_type": "code",
   "execution_count": 10,
   "metadata": {},
   "outputs": [
    {
     "name": "stdout",
     "output_type": "stream",
     "text": [
      "             precision    recall  f1-score   support\n",
      "\n",
      "        0.0       0.91      0.94      0.93       980\n",
      "        1.0       0.94      0.95      0.94      1135\n",
      "        2.0       0.86      0.83      0.84      1032\n",
      "        3.0       0.83      0.85      0.84      1010\n",
      "        4.0       0.84      0.85      0.85       982\n",
      "        5.0       0.78      0.76      0.77       892\n",
      "        6.0       0.90      0.88      0.89       958\n",
      "        7.0       0.87      0.87      0.87      1028\n",
      "        8.0       0.77      0.79      0.78       974\n",
      "        9.0       0.81      0.79      0.80      1009\n",
      "\n",
      "avg / total       0.85      0.85      0.85     10000\n",
      "\n"
     ]
    }
   ],
   "source": [
    "from sklearn.metrics import classification_report\n",
    "print(classification_report(y_test, pred_label))"
   ]
  },
  {
   "cell_type": "code",
   "execution_count": null,
   "metadata": {
    "collapsed": true
   },
   "outputs": [],
   "source": []
  }
 ],
 "metadata": {
  "kernelspec": {
   "display_name": "Python 3",
   "language": "python",
   "name": "python3"
  },
  "language_info": {
   "codemirror_mode": {
    "name": "ipython",
    "version": 3
   },
   "file_extension": ".py",
   "mimetype": "text/x-python",
   "name": "python",
   "nbconvert_exporter": "python",
   "pygments_lexer": "ipython3",
   "version": "3.6.1"
  }
 },
 "nbformat": 4,
 "nbformat_minor": 2
}
