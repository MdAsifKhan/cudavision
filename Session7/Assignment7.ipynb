{
 "cells": [
  {
   "cell_type": "markdown",
   "metadata": {},
   "source": [
    "## Assignment 7\n",
    "\n",
    "In this task we implement two variants of recurrent neural networks namely LSTM and GRU using pytorch tensors."
   ]
  },
  {
   "cell_type": "code",
   "execution_count": 1,
   "metadata": {
    "collapsed": true
   },
   "outputs": [],
   "source": [
    "from model import LSTMModel, GRUModel\n",
    "from evaluator import ModelEvaluator\n",
    "import torch\n",
    "import torchvision.datasets as dsets\n",
    "import torchvision.transforms as transforms\n",
    "import numpy as np"
   ]
  },
  {
   "cell_type": "code",
   "execution_count": 2,
   "metadata": {
    "collapsed": true
   },
   "outputs": [],
   "source": [
    "batch_size = 100\n",
    "\n",
    "trainset = dsets.MNIST(root='./data', train=True, transform=transforms.ToTensor(), download=True)\n",
    "testset = dsets.MNIST(root='./data', train=False, transform=transforms.ToTensor())\n",
    "\n",
    "trainloader = torch.utils.data.DataLoader(dataset=trainset, batch_size=batch_size, shuffle=True)\n",
    "testloader = torch.utils.data.DataLoader(dataset=testset, batch_size=batch_size, shuffle=False)\n"
   ]
  },
  {
   "cell_type": "code",
   "execution_count": 4,
   "metadata": {},
   "outputs": [
    {
     "name": "stdout",
     "output_type": "stream",
     "text": [
      "Train Epoch: 0 [0/60000 (0%)]\t Loss 2.305928\n",
      "Train Epoch: 0 [10000/60000 (17%)]\t Loss 1.232922\n",
      "Train Epoch: 0 [20000/60000 (33%)]\t Loss 0.879885\n",
      "Train Epoch: 0 [30000/60000 (50%)]\t Loss 0.930886\n",
      "Train Epoch: 0 [40000/60000 (67%)]\t Loss 0.763908\n",
      "Train Epoch: 0 [50000/60000 (83%)]\t Loss 0.454813\n",
      "Accuracy of model on test set 89.00\n",
      "Train Epoch: 1 [0/60000 (0%)]\t Loss 0.427626\n",
      "Train Epoch: 1 [10000/60000 (17%)]\t Loss 0.271451\n",
      "Train Epoch: 1 [20000/60000 (33%)]\t Loss 0.259144\n",
      "Train Epoch: 1 [30000/60000 (50%)]\t Loss 0.196861\n",
      "Train Epoch: 1 [40000/60000 (67%)]\t Loss 0.268500\n",
      "Train Epoch: 1 [50000/60000 (83%)]\t Loss 0.385663\n",
      "Accuracy of model on test set 94.00\n",
      "Train Epoch: 2 [0/60000 (0%)]\t Loss 0.120620\n",
      "Train Epoch: 2 [10000/60000 (17%)]\t Loss 0.091176\n",
      "Train Epoch: 2 [20000/60000 (33%)]\t Loss 0.200486\n",
      "Train Epoch: 2 [30000/60000 (50%)]\t Loss 0.214735\n",
      "Train Epoch: 2 [40000/60000 (67%)]\t Loss 0.185294\n",
      "Train Epoch: 2 [50000/60000 (83%)]\t Loss 0.156246\n",
      "Accuracy of model on test set 96.00\n",
      "Train Epoch: 3 [0/60000 (0%)]\t Loss 0.059190\n",
      "Train Epoch: 3 [10000/60000 (17%)]\t Loss 0.302892\n",
      "Train Epoch: 3 [20000/60000 (33%)]\t Loss 0.226270\n",
      "Train Epoch: 3 [30000/60000 (50%)]\t Loss 0.068272\n",
      "Train Epoch: 3 [40000/60000 (67%)]\t Loss 0.342627\n",
      "Train Epoch: 3 [50000/60000 (83%)]\t Loss 0.183181\n",
      "Accuracy of model on test set 96.00\n",
      "Train Epoch: 4 [0/60000 (0%)]\t Loss 0.170184\n",
      "Train Epoch: 4 [10000/60000 (17%)]\t Loss 0.149239\n",
      "Train Epoch: 4 [20000/60000 (33%)]\t Loss 0.200536\n",
      "Train Epoch: 4 [30000/60000 (50%)]\t Loss 0.111880\n",
      "Train Epoch: 4 [40000/60000 (67%)]\t Loss 0.081620\n",
      "Train Epoch: 4 [50000/60000 (83%)]\t Loss 0.109123\n",
      "Accuracy of model on test set 97.00\n",
      "Train Epoch: 5 [0/60000 (0%)]\t Loss 0.202350\n",
      "Train Epoch: 5 [10000/60000 (17%)]\t Loss 0.065636\n",
      "Train Epoch: 5 [20000/60000 (33%)]\t Loss 0.030986\n",
      "Train Epoch: 5 [30000/60000 (50%)]\t Loss 0.161432\n",
      "Train Epoch: 5 [40000/60000 (67%)]\t Loss 0.034946\n",
      "Train Epoch: 5 [50000/60000 (83%)]\t Loss 0.047551\n",
      "Accuracy of model on test set 97.00\n",
      "Train Epoch: 6 [0/60000 (0%)]\t Loss 0.008062\n",
      "Train Epoch: 6 [10000/60000 (17%)]\t Loss 0.025725\n",
      "Train Epoch: 6 [20000/60000 (33%)]\t Loss 0.066777\n",
      "Train Epoch: 6 [30000/60000 (50%)]\t Loss 0.143920\n",
      "Train Epoch: 6 [40000/60000 (67%)]\t Loss 0.039092\n",
      "Train Epoch: 6 [50000/60000 (83%)]\t Loss 0.129503\n",
      "Accuracy of model on test set 97.00\n",
      "Train Epoch: 7 [0/60000 (0%)]\t Loss 0.017639\n",
      "Train Epoch: 7 [10000/60000 (17%)]\t Loss 0.043774\n",
      "Train Epoch: 7 [20000/60000 (33%)]\t Loss 0.049253\n",
      "Train Epoch: 7 [30000/60000 (50%)]\t Loss 0.043468\n",
      "Train Epoch: 7 [40000/60000 (67%)]\t Loss 0.044598\n",
      "Train Epoch: 7 [50000/60000 (83%)]\t Loss 0.018238\n",
      "Accuracy of model on test set 97.00\n",
      "Train Epoch: 8 [0/60000 (0%)]\t Loss 0.039257\n",
      "Train Epoch: 8 [10000/60000 (17%)]\t Loss 0.032655\n",
      "Train Epoch: 8 [20000/60000 (33%)]\t Loss 0.104644\n",
      "Train Epoch: 8 [30000/60000 (50%)]\t Loss 0.019362\n",
      "Train Epoch: 8 [40000/60000 (67%)]\t Loss 0.053416\n",
      "Train Epoch: 8 [50000/60000 (83%)]\t Loss 0.072394\n",
      "Accuracy of model on test set 97.00\n",
      "Train Epoch: 9 [0/60000 (0%)]\t Loss 0.031326\n",
      "Train Epoch: 9 [10000/60000 (17%)]\t Loss 0.023323\n",
      "Train Epoch: 9 [20000/60000 (33%)]\t Loss 0.017417\n",
      "Train Epoch: 9 [30000/60000 (50%)]\t Loss 0.068778\n",
      "Train Epoch: 9 [40000/60000 (67%)]\t Loss 0.064376\n",
      "Train Epoch: 9 [50000/60000 (83%)]\t Loss 0.023690\n",
      "Accuracy of model on test set 98.00\n"
     ]
    }
   ],
   "source": [
    "n_in = 28\n",
    "n_hidden = 100\n",
    "n_out = 10\n",
    "seq_dim = 28\n",
    "use_gpu = True\n",
    "\n",
    "model = LSTMModel(n_in, n_hidden, n_out, batch_size, use_gpu)\n",
    "\n",
    "\n",
    "l2 = 0.0\n",
    "lr = 0.001\n",
    "epochs = 10\n",
    "optim = 'adam'\n",
    "modeleval = ModelEvaluator(model, epochs, lr, batch_size, l2, use_gpu, optim)\n",
    "acc_ = modeleval.evaluator(trainloader, testloader, seq_dim, n_in)"
   ]
  },
  {
   "cell_type": "code",
   "execution_count": 5,
   "metadata": {},
   "outputs": [
    {
     "data": {
      "image/png": "[encoded data removed]",
      "text/plain": [
       "<matplotlib.figure.Figure at 0x7f8156e42978>"
      ]
     },
     "metadata": {},
     "output_type": "display_data"
    }
   ],
   "source": [
    "modeleval.plot_loss()"
   ]
  },
  {
   "cell_type": "markdown",
   "metadata": {},
   "source": [
    "# GRU"
   ]
  },
  {
   "cell_type": "code",
   "execution_count": 6,
   "metadata": {},
   "outputs": [
    {
     "name": "stdout",
     "output_type": "stream",
     "text": [
      "Train Epoch: 0 [0/60000 (0%)]\t Loss 2.295968\n",
      "Train Epoch: 0 [10000/60000 (17%)]\t Loss 0.978258\n",
      "Train Epoch: 0 [20000/60000 (33%)]\t Loss 0.608656\n",
      "Train Epoch: 0 [30000/60000 (50%)]\t Loss 0.716136\n",
      "Train Epoch: 0 [40000/60000 (67%)]\t Loss 0.488652\n",
      "Train Epoch: 0 [50000/60000 (83%)]\t Loss 0.347295\n",
      "Accuracy of model on test set 90.00\n",
      "Train Epoch: 1 [0/60000 (0%)]\t Loss 0.322801\n",
      "Train Epoch: 1 [10000/60000 (17%)]\t Loss 0.323087\n",
      "Train Epoch: 1 [20000/60000 (33%)]\t Loss 0.179373\n",
      "Train Epoch: 1 [30000/60000 (50%)]\t Loss 0.178419\n",
      "Train Epoch: 1 [40000/60000 (67%)]\t Loss 0.315703\n",
      "Train Epoch: 1 [50000/60000 (83%)]\t Loss 0.156206\n",
      "Accuracy of model on test set 94.00\n",
      "Train Epoch: 2 [0/60000 (0%)]\t Loss 0.245156\n",
      "Train Epoch: 2 [10000/60000 (17%)]\t Loss 0.135308\n",
      "Train Epoch: 2 [20000/60000 (33%)]\t Loss 0.291567\n",
      "Train Epoch: 2 [30000/60000 (50%)]\t Loss 0.130897\n",
      "Train Epoch: 2 [40000/60000 (67%)]\t Loss 0.099876\n",
      "Train Epoch: 2 [50000/60000 (83%)]\t Loss 0.049840\n",
      "Accuracy of model on test set 96.00\n",
      "Train Epoch: 3 [0/60000 (0%)]\t Loss 0.064492\n",
      "Train Epoch: 3 [10000/60000 (17%)]\t Loss 0.110432\n",
      "Train Epoch: 3 [20000/60000 (33%)]\t Loss 0.090389\n",
      "Train Epoch: 3 [30000/60000 (50%)]\t Loss 0.159626\n",
      "Train Epoch: 3 [40000/60000 (67%)]\t Loss 0.083201\n",
      "Train Epoch: 3 [50000/60000 (83%)]\t Loss 0.161697\n",
      "Accuracy of model on test set 97.00\n",
      "Train Epoch: 4 [0/60000 (0%)]\t Loss 0.082303\n",
      "Train Epoch: 4 [10000/60000 (17%)]\t Loss 0.051710\n",
      "Train Epoch: 4 [20000/60000 (33%)]\t Loss 0.070312\n",
      "Train Epoch: 4 [30000/60000 (50%)]\t Loss 0.116467\n",
      "Train Epoch: 4 [40000/60000 (67%)]\t Loss 0.069546\n",
      "Train Epoch: 4 [50000/60000 (83%)]\t Loss 0.121970\n",
      "Accuracy of model on test set 97.00\n",
      "Train Epoch: 5 [0/60000 (0%)]\t Loss 0.078836\n",
      "Train Epoch: 5 [10000/60000 (17%)]\t Loss 0.098475\n",
      "Train Epoch: 5 [20000/60000 (33%)]\t Loss 0.063567\n",
      "Train Epoch: 5 [30000/60000 (50%)]\t Loss 0.049681\n",
      "Train Epoch: 5 [40000/60000 (67%)]\t Loss 0.057710\n",
      "Train Epoch: 5 [50000/60000 (83%)]\t Loss 0.077519\n",
      "Accuracy of model on test set 97.00\n",
      "Train Epoch: 6 [0/60000 (0%)]\t Loss 0.028825\n",
      "Train Epoch: 6 [10000/60000 (17%)]\t Loss 0.125132\n",
      "Train Epoch: 6 [20000/60000 (33%)]\t Loss 0.040850\n",
      "Train Epoch: 6 [30000/60000 (50%)]\t Loss 0.087848\n",
      "Train Epoch: 6 [40000/60000 (67%)]\t Loss 0.046189\n",
      "Train Epoch: 6 [50000/60000 (83%)]\t Loss 0.103631\n",
      "Accuracy of model on test set 98.00\n",
      "Train Epoch: 7 [0/60000 (0%)]\t Loss 0.044846\n",
      "Train Epoch: 7 [10000/60000 (17%)]\t Loss 0.068695\n",
      "Train Epoch: 7 [20000/60000 (33%)]\t Loss 0.064823\n",
      "Train Epoch: 7 [30000/60000 (50%)]\t Loss 0.099828\n",
      "Train Epoch: 7 [40000/60000 (67%)]\t Loss 0.023273\n",
      "Train Epoch: 7 [50000/60000 (83%)]\t Loss 0.052287\n",
      "Accuracy of model on test set 98.00\n",
      "Train Epoch: 8 [0/60000 (0%)]\t Loss 0.010735\n",
      "Train Epoch: 8 [10000/60000 (17%)]\t Loss 0.041951\n",
      "Train Epoch: 8 [20000/60000 (33%)]\t Loss 0.041993\n",
      "Train Epoch: 8 [30000/60000 (50%)]\t Loss 0.004511\n",
      "Train Epoch: 8 [40000/60000 (67%)]\t Loss 0.053457\n",
      "Train Epoch: 8 [50000/60000 (83%)]\t Loss 0.025324\n",
      "Accuracy of model on test set 98.00\n",
      "Train Epoch: 9 [0/60000 (0%)]\t Loss 0.033227\n",
      "Train Epoch: 9 [10000/60000 (17%)]\t Loss 0.104408\n",
      "Train Epoch: 9 [20000/60000 (33%)]\t Loss 0.113707\n",
      "Train Epoch: 9 [30000/60000 (50%)]\t Loss 0.055730\n",
      "Train Epoch: 9 [40000/60000 (67%)]\t Loss 0.016045\n",
      "Train Epoch: 9 [50000/60000 (83%)]\t Loss 0.027087\n",
      "Accuracy of model on test set 98.00\n"
     ]
    }
   ],
   "source": [
    "n_in = 28\n",
    "n_hidden = 100\n",
    "n_out = 10\n",
    "seq_dim = 28\n",
    "use_gpu = True\n",
    "\n",
    "model = GRUModel(n_in, n_hidden, n_out, batch_size, use_gpu)\n",
    "\n",
    "if use_gpu:\n",
    "    model.cuda()\n",
    "\n",
    "l2 = 0.0\n",
    "lr = 0.001\n",
    "epochs = 10\n",
    "optim = 'adam'\n",
    "modeleval = ModelEvaluator(model, epochs, lr, batch_size, l2, use_gpu, optim)\n",
    "acc_ = modeleval.evaluator(trainloader, testloader, seq_dim, n_in)"
   ]
  },
  {
   "cell_type": "code",
   "execution_count": 7,
   "metadata": {},
   "outputs": [
    {
     "data": {
      "image/png": "[encoded data removed]",
      "text/plain": [
       "<matplotlib.figure.Figure at 0x7f815094c278>"
      ]
     },
     "metadata": {},
     "output_type": "display_data"
    }
   ],
   "source": [
    "modeleval.plot_loss()"
   ]
  },
  {
   "cell_type": "code",
   "execution_count": null,
   "metadata": {
    "collapsed": true
   },
   "outputs": [],
   "source": []
  }
 ],
 "metadata": {
  "kernelspec": {
   "display_name": "Python 3",
   "language": "python",
   "name": "python3"
  },
  "language_info": {
   "codemirror_mode": {
    "name": "ipython",
    "version": 3
   },
   "file_extension": ".py",
   "mimetype": "text/x-python",
   "name": "python",
   "nbconvert_exporter": "python",
   "pygments_lexer": "ipython3",
   "version": "3.6.1"
  }
 },
 "nbformat": 4,
 "nbformat_minor": 2
}
