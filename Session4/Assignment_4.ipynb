{
  "nbformat": 4,
  "nbformat_minor": 0,
  "metadata": {
    "colab": {
      "name": "Assignment_4.ipynb",
      "version": "0.3.2",
      "provenance": []
    },
    "kernelspec": {
      "display_name": "Python 3",
      "language": "python",
      "name": "python3"
    }
  },
  "cells": [
    {
      "metadata": {
        "id": "Ix0F_OSiJuG2",
        "colab_type": "code",
        "colab": {}
      },
      "cell_type": "code",
      "source": [
        "# http://pytorch.org/\n",
        "from os.path import exists\n",
        "from wheel.pep425tags import get_abbr_impl, get_impl_ver, get_abi_tag\n",
        "platform = '{}{}-{}'.format(get_abbr_impl(), get_impl_ver(), get_abi_tag())\n",
        "cuda_output = !ldconfig -p|grep cudart.so|sed -e 's/.*\\.\\([0-9]*\\)\\.\\([0-9]*\\)$/cu\\1\\2/'\n",
        "accelerator = cuda_output[0] if exists('/dev/nvidia0') else 'cpu'\n",
        "\n",
        "!pip install -q http://download.pytorch.org/whl/{accelerator}/torch-0.4.1-{platform}-linux_x86_64.whl torchvision\n",
        "import torch"
      ],
      "execution_count": 0,
      "outputs": []
    },
    {
      "metadata": {
        "id": "Q0aMNlgLJpH-",
        "colab_type": "code",
        "colab": {}
      },
      "cell_type": "code",
      "source": [
        "import torch\n",
        "import torch.nn as nn\n",
        "import torch.optim as optim\n",
        "from sklearn.utils import shuffle as skshuffle\n",
        "import numpy as np\n",
        "import torchvision.datasets as dsets\n",
        "import torchvision.transforms as transforms\n",
        "from matplotlib import pyplot as plt\n",
        "import torchvision\n",
        "%matplotlib inline"
      ],
      "execution_count": 0,
      "outputs": []
    },
    {
      "metadata": {
        "id": "sBmp7hkiJpIV",
        "colab_type": "code",
        "colab": {}
      },
      "cell_type": "code",
      "source": [
        "class CNN(nn.Module):\n",
        "    def __init__(self, pool='max'):\n",
        "        super(CNN, self).__init__()\n",
        "         \n",
        "        self.cnn1 = nn.Conv2d(in_channels=3, out_channels=20, kernel_size=5, stride=1, padding=0)\n",
        "        self.relu1 = nn.ReLU()\n",
        "         \n",
        "        if pool=='max':\n",
        "          self.pool1 = nn.MaxPool2d(kernel_size=2)\n",
        "          self.pool2 = nn.MaxPool2d(kernel_size=2)\n",
        "\n",
        "        else:\n",
        "          self.pool1 = nn.AvgPool2d(kernel_size=2)\n",
        "          self.pool2 = nn.AvgPool2d(kernel_size=2)\n",
        "          \n",
        "        # Convolution 2\n",
        "        self.cnn2 = nn.Conv2d(in_channels=20, out_channels=32, kernel_size=5, stride=1, padding=0)\n",
        "        self.relu2 = nn.ReLU() \n",
        "         \n",
        "        # Fully connected 1 (readout)\n",
        "        self.fc1 = nn.Linear(32 * 5 * 5, 10)\n",
        "        self.loss = nn.CrossEntropyLoss()\n",
        "    \n",
        "    def forward(self, x):\n",
        "        # Convolution 1\n",
        "        out = self.cnn1(x) \n",
        "        out = self.relu1(out) \n",
        "         \n",
        "        out = self.pool1(out) \n",
        "         \n",
        "        # Convolution 2 \n",
        "        out = self.cnn2(out) \n",
        "        out = self.relu2(out) \n",
        "         \n",
        "        out = self.pool2(out) \n",
        "        out = out.view(out.size(0), -1)   \n",
        " \n",
        "        # Linear function (readout)\n",
        "        out = self.fc1(out)\n",
        "         \n",
        "        return out\n",
        "      \n",
        "    def output_cnn(self, x):\n",
        "      out1 = self.cnn1(x)\n",
        "      out2 = self.relu1(out1)          \n",
        "      out2 = self.pool1(out2) \n",
        "\n",
        "      # Convolution 2 \n",
        "      out2 = self.cnn2(out2) \n",
        "\n",
        "      return out1, out2    "
      ],
      "execution_count": 0,
      "outputs": []
    },
    {
      "metadata": {
        "id": "Ss8Cgj3jRB0p",
        "colab_type": "code",
        "colab": {}
      },
      "cell_type": "code",
      "source": [
        ""
      ],
      "execution_count": 0,
      "outputs": []
    },
    {
      "metadata": {
        "id": "ImRRh5KDJpIh",
        "colab_type": "code",
        "colab": {}
      },
      "cell_type": "code",
      "source": [
        "class ModelEvaluator:\n",
        "    def __init__(self, model, epochs, lr, l2=0.0, use_gpu=False, optim='adam'):\n",
        "        '''\n",
        "        model: instance of pytorch model class\n",
        "        epochs: number of training epochs\n",
        "        lr: learning rate\n",
        "        use_gpu: to use gpu\n",
        "        optim: optimizer used for training, SGD or adam\n",
        "        '''\n",
        "        self.epochs = epochs\n",
        "        self.lr = lr\n",
        "        self.model = model\n",
        "        self.l2 = l2\n",
        "        self.use_gpu = use_gpu\n",
        "        self.train_loss = []\n",
        "        self.test_loss = []\n",
        "\n",
        "        if self.use_gpu:\n",
        "            self.device = torch.device('cuda:0' if torch.cuda.is_available() else 'cpu')\n",
        "\n",
        "            if self.device == 'cuda:0':\n",
        "                if torch.cuda.device_count()>1:\n",
        "                    self.model = nn.DataParallel(model)\n",
        "                self.model.to(device)\n",
        "\n",
        "        if optim=='adam':\n",
        "            self.optimizer = torch.optim.Adam(self.model.parameters(), lr=lr)\n",
        "        elif optim=='sgd':\n",
        "            self.optimizer = torch.optim.SGD(self.model.parameters(), lr = lr, momentum=0.9)\n",
        "        elif optim=='adadelta':\n",
        "            self.optimizer = torch.optim.Adadelta(self.model.parameters(), lr = lr, eps=1e-6, weight_decay=0)\n",
        "        elif optim=='adagrad':\n",
        "            self.optimizer = torch.optim.Adagrad(self.model.parameters(), lr = lr, lr_decay=1e-6, weight_decay=0)\n",
        "        elif optim=='rmsprop':\n",
        "            self.optimizer = torch.optim.RMSprop(self.model.parameters(), lr = lr, alpha=0.995, eps=1e-7, weight_decay=0)\n",
        "        else:\n",
        "            ValueError('Optimizer Not Supported')\n",
        "\n",
        "    def l2_regularization(self, loss, lam):\n",
        "        l2 = 0\n",
        "        for W in self.model.parameters():\n",
        "            l2 += W.norm(2)\n",
        "        loss = loss + 0.5*lam*l2\n",
        "        return loss\t\n",
        "\n",
        "\n",
        "    def train(self, epoch, trainloader, print_every=100):\n",
        "        '''\n",
        "        method for training\n",
        "        '''\n",
        "        loss_batch = 0\n",
        "        for b_idx, (train_data, train_labels) in enumerate(trainloader):\n",
        "            if self.use_gpu and self.device == 'cuda:0':\n",
        "                train_data, train_labels = train_data.to(self.device), train_labels.to(self.device)\n",
        "\n",
        "            # Forward Pass \n",
        "            train_preds = self.model.forward(train_data)\n",
        "            loss = self.model.loss(train_preds, train_labels)\n",
        "            if self.l2:\n",
        "                loss = self.l2_regularization(loss, self.l2)\n",
        "            self.optimizer.zero_grad()\n",
        "            loss.backward()\n",
        "            self.optimizer.step()\n",
        "\n",
        "            if b_idx%print_every == 0:\n",
        "                print('Train Epoch: {0} [{1}/{2} ({3:.0f}%)]\\t Loss {4:.6f}'.\n",
        "                    format(epoch, b_idx*len(train_data), len(trainloader.dataset), \n",
        "                        100.*b_idx/len(trainloader), loss))\n",
        "\n",
        "            loss_batch += loss\n",
        "        loss_batch /= len(trainloader)\n",
        "        self.train_loss.append(loss_batch)    \n",
        "\n",
        "    def validation(self, valloader):\n",
        "        '''\n",
        "        method for validation\n",
        "        '''\n",
        "        correct_, total_ = 0, 0\n",
        "        with torch.no_grad():\n",
        "            loss = 0\n",
        "            for val_data, val_labels in valloader:\n",
        "                if self.use_gpu and self.device == 'cuda:0':\n",
        "                    val_data, val_labels = test_data.to(self.device), val_labels.to(self.device)\n",
        "                val_preds = self.model.forward(val_data)\n",
        "\n",
        "                loss += self.model.loss(val_preds, val_labels)\n",
        "\n",
        "                _, val_pred_labels = torch.max(val_preds.data, 1)\n",
        "                total_ += val_labels.size(0)\n",
        "                correct_ += (val_pred_labels.cpu() == val_labels.cpu()).sum()\n",
        "\n",
        "            loss /= len(valloader)\n",
        "            self.val_loss.append(loss)\n",
        "            accuracy_val = (100.0*correct_/total_)\n",
        "            print('Validation Loss {1:.2f} Accuracy on validation set {2:.2f}'.format(loss, accuracy_val))\n",
        "            return accuracy_val\n",
        "\n",
        "    def test(self, testloader):\n",
        "        '''\n",
        "        method for testing\n",
        "        '''\n",
        "        correct_, total_ = 0, 0\n",
        "        with torch.no_grad():\n",
        "            loss = 0\n",
        "            for test_data, test_labels in testloader:\n",
        "                if self.use_gpu and self.device == 'cuda:0':\n",
        "                    test_data, test_labels = test_data.to(self.device), test_labels.to(self.device)\n",
        "                test_preds = self.model.forward(test_data)\n",
        "\n",
        "                loss += self.model.loss(test_preds, test_labels)\n",
        "                _, test_pred_labels = torch.max(test_preds.data, 1)\n",
        "                total_ += test_labels.size(0)\n",
        "                correct_ += (test_pred_labels.cpu() == test_labels.cpu()).sum()\n",
        "\n",
        "            loss /= len(testloader)\n",
        "            self.test_loss.append(loss)\n",
        "            accuracy_test = (100*correct_/total_)\n",
        "            print('Accuracy of model on test set {0:.2f}'.format(accuracy_test))\n",
        "            return accuracy_test\n",
        "\n",
        "    def evaluator(self, trainloader, testloader, print_every=1000, validation=False):\n",
        "        for epoch in range(self.epochs):\n",
        "            self.train(epoch, trainloader, print_every=print_every)\n",
        "            if validation:\n",
        "                acc_ = self.validation(testloader)\n",
        "            else:\n",
        "                acc_ = self.test(testloader)\n",
        "        return acc_\n",
        "    \n",
        "    def plot_loss(self, validation=False):\n",
        "        '''\n",
        "        to visualize loss\n",
        "        '''\n",
        "        plt.plot(range(len(self.train_loss)), self.train_loss, label='Training Loss')\n",
        "        if validation:\n",
        "            plt.plot(range(len(self.val_loss)), self.val_loss, label='Validation Loss')\n",
        "        else:\n",
        "            plt.plot(range(len(self.test_loss)), self.test_loss, label='Testing Loss')\n",
        "        plt.xlabel('Iteration')\n",
        "        plt.ylabel('Loss')\n",
        "        plt.legend()\n",
        "        plt.show()"
      ],
      "execution_count": 0,
      "outputs": []
    },
    {
      "metadata": {
        "id": "uZydn1R_JpI0",
        "colab_type": "code",
        "colab": {}
      },
      "cell_type": "code",
      "source": [
        ""
      ],
      "execution_count": 0,
      "outputs": []
    },
    {
      "metadata": {
        "id": "Lao4EsSqJpI8",
        "colab_type": "code",
        "colab": {
          "base_uri": "https://localhost:8080/",
          "height": 52
        },
        "outputId": "6bc594fc-b137-49bd-b001-149e88ce5fbf"
      },
      "cell_type": "code",
      "source": [
        "trainset = dsets.CIFAR10('./data', train=True, download=True, transform=transforms.ToTensor())\n",
        "testset = dsets.CIFAR10('./data', train=False, download=True, transform=transforms.ToTensor())\n",
        "classes = ('plane', 'car', 'bird', 'cat', 'deer', 'dog', 'frog', 'horse', 'ship', 'truck')\n",
        "\n",
        "# Parameters\n",
        "n_out = len(classes)\n",
        "batch_size = 100"
      ],
      "execution_count": 42,
      "outputs": [
        {
          "output_type": "stream",
          "text": [
            "Files already downloaded and verified\n",
            "Files already downloaded and verified\n"
          ],
          "name": "stdout"
        }
      ]
    },
    {
      "metadata": {
        "id": "EtToVjhsJpJN",
        "colab_type": "code",
        "colab": {}
      },
      "cell_type": "code",
      "source": [
        "# Hyperparameters\n",
        "lr = 0.001\n",
        "epochs = 10\n",
        "# Data Loader\n",
        "trainloader = torch.utils.data.DataLoader(trainset, batch_size=batch_size, shuffle=True, num_workers=2)\n",
        "testloader = torch.utils.data.DataLoader(testset, batch_size=batch_size, shuffle=True, num_workers=2)"
      ],
      "execution_count": 0,
      "outputs": []
    },
    {
      "metadata": {
        "id": "L6mGpuWgJpJZ",
        "colab_type": "code",
        "colab": {
          "base_uri": "https://localhost:8080/",
          "height": 1076
        },
        "outputId": "981adb32-2715-4896-9818-4943b939b57e"
      },
      "cell_type": "code",
      "source": [
        "# Model\n",
        "n_hidden = [1024, 512]\n",
        "l2 = 0.0\n",
        "pool = 'max'\n",
        "# Pytorch Cross Entropy Loss\n",
        "model = CNN(pool)\n",
        "modeleval = ModelEvaluator(model, epochs, lr, l2=l2, use_gpu=True)\n",
        "modeleval.evaluator(trainloader, testloader, print_every=100, validation=False)"
      ],
      "execution_count": 29,
      "outputs": [
        {
          "output_type": "stream",
          "text": [
            "Train Epoch: 0 [0/50000 (0%)]\t Loss 2.306387\n",
            "Train Epoch: 0 [10000/50000 (20%)]\t Loss 1.937222\n",
            "Train Epoch: 0 [20000/50000 (40%)]\t Loss 1.626268\n",
            "Train Epoch: 0 [30000/50000 (60%)]\t Loss 1.641999\n",
            "Train Epoch: 0 [40000/50000 (80%)]\t Loss 1.605598\n",
            "Accuracy of model on test set 45.00\n",
            "Train Epoch: 1 [0/50000 (0%)]\t Loss 1.577814\n",
            "Train Epoch: 1 [10000/50000 (20%)]\t Loss 1.462789\n",
            "Train Epoch: 1 [20000/50000 (40%)]\t Loss 1.634140\n",
            "Train Epoch: 1 [30000/50000 (60%)]\t Loss 1.463104\n",
            "Train Epoch: 1 [40000/50000 (80%)]\t Loss 1.489114\n",
            "Accuracy of model on test set 48.00\n",
            "Train Epoch: 2 [0/50000 (0%)]\t Loss 1.487737\n",
            "Train Epoch: 2 [10000/50000 (20%)]\t Loss 1.257866\n",
            "Train Epoch: 2 [20000/50000 (40%)]\t Loss 1.448658\n",
            "Train Epoch: 2 [30000/50000 (60%)]\t Loss 1.449886\n",
            "Train Epoch: 2 [40000/50000 (80%)]\t Loss 1.463670\n",
            "Accuracy of model on test set 51.00\n",
            "Train Epoch: 3 [0/50000 (0%)]\t Loss 1.343710\n",
            "Train Epoch: 3 [10000/50000 (20%)]\t Loss 1.167341\n",
            "Train Epoch: 3 [20000/50000 (40%)]\t Loss 1.558756\n",
            "Train Epoch: 3 [30000/50000 (60%)]\t Loss 1.318838\n",
            "Train Epoch: 3 [40000/50000 (80%)]\t Loss 1.196205\n",
            "Accuracy of model on test set 52.00\n",
            "Train Epoch: 4 [0/50000 (0%)]\t Loss 1.309873\n",
            "Train Epoch: 4 [10000/50000 (20%)]\t Loss 1.160318\n",
            "Train Epoch: 4 [20000/50000 (40%)]\t Loss 1.331950\n",
            "Train Epoch: 4 [30000/50000 (60%)]\t Loss 1.274265\n",
            "Train Epoch: 4 [40000/50000 (80%)]\t Loss 1.189083\n",
            "Accuracy of model on test set 54.00\n",
            "Train Epoch: 5 [0/50000 (0%)]\t Loss 1.243151\n",
            "Train Epoch: 5 [10000/50000 (20%)]\t Loss 1.511010\n",
            "Train Epoch: 5 [20000/50000 (40%)]\t Loss 1.204322\n",
            "Train Epoch: 5 [30000/50000 (60%)]\t Loss 1.399039\n",
            "Train Epoch: 5 [40000/50000 (80%)]\t Loss 1.274026\n",
            "Accuracy of model on test set 55.00\n",
            "Train Epoch: 6 [0/50000 (0%)]\t Loss 1.114705\n",
            "Train Epoch: 6 [10000/50000 (20%)]\t Loss 0.987467\n",
            "Train Epoch: 6 [20000/50000 (40%)]\t Loss 1.190332\n",
            "Train Epoch: 6 [30000/50000 (60%)]\t Loss 1.183946\n",
            "Train Epoch: 6 [40000/50000 (80%)]\t Loss 1.293408\n",
            "Accuracy of model on test set 56.00\n",
            "Train Epoch: 7 [0/50000 (0%)]\t Loss 1.207589\n",
            "Train Epoch: 7 [10000/50000 (20%)]\t Loss 1.172497\n",
            "Train Epoch: 7 [20000/50000 (40%)]\t Loss 1.130370\n",
            "Train Epoch: 7 [30000/50000 (60%)]\t Loss 1.168793\n",
            "Train Epoch: 7 [40000/50000 (80%)]\t Loss 1.198529\n",
            "Accuracy of model on test set 57.00\n",
            "Train Epoch: 8 [0/50000 (0%)]\t Loss 1.017319\n",
            "Train Epoch: 8 [10000/50000 (20%)]\t Loss 1.067802\n",
            "Train Epoch: 8 [20000/50000 (40%)]\t Loss 1.265312\n",
            "Train Epoch: 8 [30000/50000 (60%)]\t Loss 1.198329\n",
            "Train Epoch: 8 [40000/50000 (80%)]\t Loss 1.129165\n",
            "Accuracy of model on test set 57.00\n",
            "Train Epoch: 9 [0/50000 (0%)]\t Loss 1.167505\n",
            "Train Epoch: 9 [10000/50000 (20%)]\t Loss 1.229553\n",
            "Train Epoch: 9 [20000/50000 (40%)]\t Loss 1.062057\n",
            "Train Epoch: 9 [30000/50000 (60%)]\t Loss 1.085029\n",
            "Train Epoch: 9 [40000/50000 (80%)]\t Loss 1.207875\n",
            "Accuracy of model on test set 57.00\n"
          ],
          "name": "stdout"
        },
        {
          "output_type": "execute_result",
          "data": {
            "text/plain": [
              "tensor(57)"
            ]
          },
          "metadata": {
            "tags": []
          },
          "execution_count": 29
        }
      ]
    },
    {
      "metadata": {
        "id": "FClRknmlJpJt",
        "colab_type": "code",
        "colab": {
          "base_uri": "https://localhost:8080/",
          "height": 279
        },
        "outputId": "492becc8-8bf7-43ab-b187-42e7c253668c"
      },
      "cell_type": "code",
      "source": [
        "modeleval.plot_loss()"
      ],
      "execution_count": 31,
      "outputs": [
        {
          "output_type": "display_data",
          "data": {
            "image/png": "[encoded data removed]",
            "text/plain": [
              "<matplotlib.figure.Figure at 0x7f3afafca940>"
            ]
          },
          "metadata": {
            "tags": []
          }
        }
      ]
    },
    {
      "metadata": {
        "id": "Ty4ROm_IQE2S",
        "colab_type": "text"
      },
      "cell_type": "markdown",
      "source": [
        "# Filter Visualization"
      ]
    },
    {
      "metadata": {
        "id": "Nph57Hgwg8_Z",
        "colab_type": "code",
        "colab": {}
      },
      "cell_type": "code",
      "source": [
        "from torchvision import utils"
      ],
      "execution_count": 0,
      "outputs": []
    },
    {
      "metadata": {
        "id": "HvOBamfAJpKC",
        "colab_type": "code",
        "colab": {}
      },
      "cell_type": "code",
      "source": [
        "def vistensor(tensor, ch=0, allkernels=False, nrow=8, padding=1): \n",
        "    '''\n",
        "    vistensor: visuzlization tensor\n",
        "        @ch: visualization channel \n",
        "        @allkernels: visualization all tensores\n",
        "    ''' \n",
        "    \n",
        "    n,c,w,h = tensor.shape\n",
        "    if allkernels: tensor = tensor.view(n*c,-1,w,h )\n",
        "    elif c != 3: tensor = tensor[:,ch,:,:].unsqueeze(dim=1)\n",
        "        \n",
        "    rows = np.min( (tensor.shape[0]//nrow + 1, 64 )  )    \n",
        "    grid = utils.make_grid(tensor, nrow=nrow, normalize=True, padding=padding)\n",
        "    plt.figure( figsize=(nrow,rows) )\n",
        "    plt.imshow(grid.numpy().transpose((1, 2, 0)))"
      ],
      "execution_count": 0,
      "outputs": []
    },
    {
      "metadata": {
        "id": "bXP_d27HOqVy",
        "colab_type": "code",
        "colab": {
          "base_uri": "https://localhost:8080/",
          "height": 487
        },
        "outputId": "eb46827f-1b68-457d-a977-2f90e1f469e7"
      },
      "cell_type": "code",
      "source": [
        "\n",
        "filters = model.modules()\n",
        "model_layers = [i for i in model.children()]\n",
        "first_layer = model_layers[0]\n",
        "second_layer = model_layers[4]\n",
        "\n",
        "first_kernels = first_layer.weight.data.clone()\n",
        "print(first_kernels.shape)\n",
        "vistensor(first_kernels, ch=0, allkernels=False)\n",
        "plt.axis('off')\n",
        "plt.ioff()\n",
        "plt.show()\n",
        "\n",
        "second_kernels = second_layer.weight.data.clone()\n",
        "vistensor(second_kernels, ch=0, allkernels=False)\n",
        "plt.axis('off')\n",
        "plt.ioff()\n",
        "plt.show()"
      ],
      "execution_count": 96,
      "outputs": [
        {
          "output_type": "stream",
          "text": [
            "torch.Size([20, 3, 5, 5])\n"
          ],
          "name": "stdout"
        },
        {
          "output_type": "display_data",
          "data": {
            "image/png": "[encoded data removed]",
            "text/plain": [
              "<matplotlib.figure.Figure at 0x7f3afafb2358>"
            ]
          },
          "metadata": {
            "tags": []
          }
        },
        {
          "output_type": "display_data",
          "data": {
            "image/png": "[encoded data removed]",
            "text/plain": [
              "<matplotlib.figure.Figure at 0x7f3af4c08cc0>"
            ]
          },
          "metadata": {
            "tags": []
          }
        }
      ]
    },
    {
      "metadata": {
        "id": "z9LRAfr3meWI",
        "colab_type": "text"
      },
      "cell_type": "markdown",
      "source": [
        "## Visualize output of CNN"
      ]
    },
    {
      "metadata": {
        "id": "i0noeKl0NK81",
        "colab_type": "code",
        "colab": {
          "base_uri": "https://localhost:8080/",
          "height": 421
        },
        "outputId": "64f9b9e1-169b-4cf7-9b7c-7e917212a853"
      },
      "cell_type": "code",
      "source": [
        "def plot_img(tensor, num_cols=10):\n",
        "  num_kernels = tensor.shape[0]\n",
        "  num_rows = 1+ num_kernels // num_cols\n",
        "  fig = plt.figure(figsize=(num_cols,num_rows))\n",
        "  for i in range(num_kernels):\n",
        "    ax1 = fig.add_subplot(num_rows,num_cols,i+1)\n",
        "    ax1.imshow(tensor[i], cmap='gray')\n",
        "    ax1.axis('off')\n",
        "    ax1.set_xticklabels([])\n",
        "    ax1.set_yticklabels([])\n",
        "\n",
        "  plt.subplots_adjust(wspace=0.1, hspace=0.1)\n",
        "  plt.show()    \n",
        "# get some random training images\n",
        "dataiter = iter(testloader)\n",
        "images, labels = dataiter.next()\n",
        "\n",
        "for image in images[:1]:\n",
        "  image = image.view(1, 3, 32, 32)\n",
        "  out1, out2 = model.output_cnn(image.to(modeleval.device))\n",
        "  out1, out2 = out1.squeeze(), out2.squeeze()\n",
        "  \n",
        "  # show images\n",
        "  print(out1.shape)\n",
        "  print('Output Layer 1')\n",
        "  plot_img(out1.detach().numpy())\n",
        "  print('Output Layer 2')\n",
        "  plot_img(out2.detach().numpy())"
      ],
      "execution_count": 117,
      "outputs": [
        {
          "output_type": "stream",
          "text": [
            "torch.Size([20, 28, 28])\n",
            "Output Layer 1\n"
          ],
          "name": "stdout"
        },
        {
          "output_type": "display_data",
          "data": {
            "image/png": "[encoded data removed]",
            "text/plain": [
              "<matplotlib.figure.Figure at 0x7f3af9eb74e0>"
            ]
          },
          "metadata": {
            "tags": []
          }
        },
        {
          "output_type": "stream",
          "text": [
            "Output Layer 2\n"
          ],
          "name": "stdout"
        },
        {
          "output_type": "display_data",
          "data": {
            "image/png": "[encoded data removed]",
            "text/plain": [
              "<matplotlib.figure.Figure at 0x7f3af6aedba8>"
            ]
          },
          "metadata": {
            "tags": []
          }
        }
      ]
    },
    {
      "metadata": {
        "id": "ohvs_K9qW_Dl",
        "colab_type": "code",
        "colab": {}
      },
      "cell_type": "code",
      "source": [
        ""
      ],
      "execution_count": 0,
      "outputs": []
    }
  ]
}